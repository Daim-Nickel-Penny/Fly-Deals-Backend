{
  "nbformat": 4,
  "nbformat_minor": 0,
  "metadata": {
    "colab": {
      "name": "Fly-Deals-Backend.ipynb",
      "provenance": [],
      "collapsed_sections": [],
      "include_colab_link": true
    },
    "kernelspec": {
      "name": "python3",
      "display_name": "Python 3"
    },
    "language_info": {
      "name": "python"
    }
  },
  "cells": [
    {
      "cell_type": "markdown",
      "metadata": {
        "id": "view-in-github",
        "colab_type": "text"
      },
      "source": [
        "<a href=\"https://colab.research.google.com/github/Daim-Nickel-Penny/Fly-Deals-Backend/blob/main/Fly_Deals_Backend.ipynb\" target=\"_parent\"><img src=\"https://colab.research.google.com/assets/colab-badge.svg\" alt=\"Open In Colab\"/></a>"
      ]
    },
    {
      "cell_type": "code",
      "metadata": {
        "id": "agis8jsqhGkS",
        "colab": {
          "resources": {
            "http://localhost:8080/nbextensions/google.colab/files.js": {
              "data": "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",
              "ok": true,
              "headers": [
                [
                  "content-type",
                  "application/javascript"
                ]
              ],
              "status": 200,
              "status_text": ""
            }
          },
          "base_uri": "https://localhost:8080/",
          "height": 73
        },
        "outputId": "53df1614-d5a8-4d3b-a97d-4fa0753b3173"
      },
      "source": [
        "# Bringing the data from kaggle\n",
        "!pip install -q kaggle\n",
        "\n",
        "from google.colab import files\n",
        "files.upload()\n",
        "\n",
        "! mkdir ~/.kaggle\n",
        "\n",
        "! cp kaggle.json ~/.kaggle/\n",
        "\n",
        "! chmod 600 ~/.kaggle/kaggle.json "
      ],
      "execution_count": null,
      "outputs": [
        {
          "output_type": "display_data",
          "data": {
            "text/html": [
              "\n",
              "     <input type=\"file\" id=\"files-a752a5a7-f9f6-4a04-a894-f21f05fc824e\" name=\"files[]\" multiple disabled\n",
              "        style=\"border:none\" />\n",
              "     <output id=\"result-a752a5a7-f9f6-4a04-a894-f21f05fc824e\">\n",
              "      Upload widget is only available when the cell has been executed in the\n",
              "      current browser session. Please rerun this cell to enable.\n",
              "      </output>\n",
              "      <script src=\"/nbextensions/google.colab/files.js\"></script> "
            ],
            "text/plain": [
              "<IPython.core.display.HTML object>"
            ]
          },
          "metadata": {
            "tags": []
          }
        },
        {
          "output_type": "stream",
          "text": [
            "Saving kaggle.json to kaggle.json\n"
          ],
          "name": "stdout"
        }
      ]
    },
    {
      "cell_type": "code",
      "metadata": {
        "colab": {
          "base_uri": "https://localhost:8080/"
        },
        "id": "mSElRn7jj1u1",
        "outputId": "507d7a53-1200-4fb9-f1d8-db3b448546cf"
      },
      "source": [
        "!kaggle datasets download -d promptcloud/easemytrip-flight-fare-details-2020"
      ],
      "execution_count": null,
      "outputs": [
        {
          "output_type": "stream",
          "text": [
            "Downloading easemytrip-flight-fare-details-2020.zip to /content\n",
            "\r  0% 0.00/1.68M [00:00<?, ?B/s]\n",
            "\r100% 1.68M/1.68M [00:00<00:00, 56.0MB/s]\n"
          ],
          "name": "stdout"
        }
      ]
    },
    {
      "cell_type": "code",
      "metadata": {
        "id": "YN39AK1TkEd2"
      },
      "source": [
        "!unzip -qq -o /content/easemytrip-flight-fare-details-2020.zip"
      ],
      "execution_count": null,
      "outputs": []
    },
    {
      "cell_type": "code",
      "metadata": {
        "id": "OZcLH1ePkMfJ"
      },
      "source": [
        "import pandas as pd\n",
        "import numpy as np"
      ],
      "execution_count": null,
      "outputs": []
    },
    {
      "cell_type": "code",
      "metadata": {
        "id": "D9hDI-2HnZJM"
      },
      "source": [
        "flight_data=pd.read_csv(\"Flight-Data.csv\")"
      ],
      "execution_count": null,
      "outputs": []
    },
    {
      "cell_type": "code",
      "metadata": {
        "colab": {
          "base_uri": "https://localhost:8080/",
          "height": 517
        },
        "id": "q-3i3xRbneie",
        "outputId": "2ca89588-43be-4079-b27b-140dbfb760e5"
      },
      "source": [
        "flight_data.head()"
      ],
      "execution_count": null,
      "outputs": [
        {
          "output_type": "execute_result",
          "data": {
            "text/html": [
              "<div>\n",
              "<style scoped>\n",
              "    .dataframe tbody tr th:only-of-type {\n",
              "        vertical-align: middle;\n",
              "    }\n",
              "\n",
              "    .dataframe tbody tr th {\n",
              "        vertical-align: top;\n",
              "    }\n",
              "\n",
              "    .dataframe thead th {\n",
              "        text-align: right;\n",
              "    }\n",
              "</style>\n",
              "<table border=\"1\" class=\"dataframe\">\n",
              "  <thead>\n",
              "    <tr style=\"text-align: right;\">\n",
              "      <th></th>\n",
              "      <th>Uniq Id</th>\n",
              "      <th>Crawl Timestamp</th>\n",
              "      <th>Source</th>\n",
              "      <th>Layover1</th>\n",
              "      <th>Layover2</th>\n",
              "      <th>Layover3</th>\n",
              "      <th>Destination</th>\n",
              "      <th>Flight Operator</th>\n",
              "      <th>Flight Number</th>\n",
              "      <th>Departure Date</th>\n",
              "      <th>Departure Time</th>\n",
              "      <th>Arrival Date</th>\n",
              "      <th>Arrival Time</th>\n",
              "      <th>Total Time</th>\n",
              "      <th>Number Of Stops</th>\n",
              "      <th>Fare</th>\n",
              "    </tr>\n",
              "  </thead>\n",
              "  <tbody>\n",
              "    <tr>\n",
              "      <th>0</th>\n",
              "      <td>723b6dbcffbdfc2c29321c248cb14a9d</td>\n",
              "      <td>2020-02-01 00:46:15 +0000</td>\n",
              "      <td>Dubai</td>\n",
              "      <td>Muscat</td>\n",
              "      <td>Delhi</td>\n",
              "      <td>NaN</td>\n",
              "      <td>Kolkata</td>\n",
              "      <td>Oman Air|Oman Air|Air India</td>\n",
              "      <td>WY-612|WY-241|AI-764</td>\n",
              "      <td>06Feb2020</td>\n",
              "      <td>22:45</td>\n",
              "      <td>07Feb2020</td>\n",
              "      <td>19:10</td>\n",
              "      <td>18h 55m</td>\n",
              "      <td>2</td>\n",
              "      <td>26224.0</td>\n",
              "    </tr>\n",
              "    <tr>\n",
              "      <th>1</th>\n",
              "      <td>75624e36d7e8ea7e40cc5c33e6c96c01</td>\n",
              "      <td>2020-01-13 13:29:00 +0000</td>\n",
              "      <td>Delhi</td>\n",
              "      <td>NaN</td>\n",
              "      <td>NaN</td>\n",
              "      <td>NaN</td>\n",
              "      <td>Patna</td>\n",
              "      <td>SpiceJet</td>\n",
              "      <td>SG-8480</td>\n",
              "      <td>01Feb2020</td>\n",
              "      <td>15:45</td>\n",
              "      <td>01Feb2020</td>\n",
              "      <td>17:25</td>\n",
              "      <td>01h 40m</td>\n",
              "      <td>0</td>\n",
              "      <td>2889.0</td>\n",
              "    </tr>\n",
              "    <tr>\n",
              "      <th>2</th>\n",
              "      <td>0868155ae620dd8e7cd462e601b5f559</td>\n",
              "      <td>2020-01-01 00:35:50 +0000</td>\n",
              "      <td>Mumbai</td>\n",
              "      <td>Raipur</td>\n",
              "      <td>Kolkata</td>\n",
              "      <td>NaN</td>\n",
              "      <td>Silchar</td>\n",
              "      <td>Air India|Air India|Air India</td>\n",
              "      <td>AI-651|AI-9728|AI-753</td>\n",
              "      <td>23Jan2020</td>\n",
              "      <td>09:40</td>\n",
              "      <td>24Jan2020</td>\n",
              "      <td>07:00</td>\n",
              "      <td>21h 20m</td>\n",
              "      <td>2</td>\n",
              "      <td>13518.0</td>\n",
              "    </tr>\n",
              "    <tr>\n",
              "      <th>3</th>\n",
              "      <td>26135ec458c4204ddf036eae4119dd90</td>\n",
              "      <td>2020-02-01 00:33:23 +0000</td>\n",
              "      <td>Nagpur</td>\n",
              "      <td>Mumbai</td>\n",
              "      <td>Goa</td>\n",
              "      <td>NaN</td>\n",
              "      <td>Pune</td>\n",
              "      <td>Air India|Air India|Air India</td>\n",
              "      <td>AI-630|AI-33|AI-9562</td>\n",
              "      <td>03Feb2020</td>\n",
              "      <td>21:10</td>\n",
              "      <td>04Feb2020</td>\n",
              "      <td>14:45</td>\n",
              "      <td>17h 35m</td>\n",
              "      <td>2</td>\n",
              "      <td>12528.0</td>\n",
              "    </tr>\n",
              "    <tr>\n",
              "      <th>4</th>\n",
              "      <td>c29198e6745d72220af30969f05a7841</td>\n",
              "      <td>2020-01-01 00:18:01 +0000</td>\n",
              "      <td>Mumbai</td>\n",
              "      <td>Hyderabad</td>\n",
              "      <td>NaN</td>\n",
              "      <td>NaN</td>\n",
              "      <td>Varanasi</td>\n",
              "      <td>Indigo|Indigo</td>\n",
              "      <td>6E-5384|6E-915</td>\n",
              "      <td>06Jan2020</td>\n",
              "      <td>00:50</td>\n",
              "      <td>06Jan2020</td>\n",
              "      <td>10:05</td>\n",
              "      <td>09h 15m</td>\n",
              "      <td>1</td>\n",
              "      <td>8240.0</td>\n",
              "    </tr>\n",
              "  </tbody>\n",
              "</table>\n",
              "</div>"
            ],
            "text/plain": [
              "                            Uniq Id  ...     Fare\n",
              "0  723b6dbcffbdfc2c29321c248cb14a9d  ...  26224.0\n",
              "1  75624e36d7e8ea7e40cc5c33e6c96c01  ...   2889.0\n",
              "2  0868155ae620dd8e7cd462e601b5f559  ...  13518.0\n",
              "3  26135ec458c4204ddf036eae4119dd90  ...  12528.0\n",
              "4  c29198e6745d72220af30969f05a7841  ...   8240.0\n",
              "\n",
              "[5 rows x 16 columns]"
            ]
          },
          "metadata": {
            "tags": []
          },
          "execution_count": 7
        }
      ]
    },
    {
      "cell_type": "code",
      "metadata": {
        "id": "31dfjAk5ng1z"
      },
      "source": [
        "import datetime as dt"
      ],
      "execution_count": null,
      "outputs": []
    },
    {
      "cell_type": "code",
      "metadata": {
        "colab": {
          "base_uri": "https://localhost:8080/"
        },
        "id": "TMNCp4jLns70",
        "outputId": "23370521-64c9-4866-b72a-effa46508fdb"
      },
      "source": [
        "flight_data.info()"
      ],
      "execution_count": null,
      "outputs": [
        {
          "output_type": "stream",
          "text": [
            "<class 'pandas.core.frame.DataFrame'>\n",
            "RangeIndex: 30024 entries, 0 to 30023\n",
            "Data columns (total 16 columns):\n",
            " #   Column           Non-Null Count  Dtype  \n",
            "---  ------           --------------  -----  \n",
            " 0   Uniq Id          30024 non-null  object \n",
            " 1   Crawl Timestamp  30024 non-null  object \n",
            " 2   Source           30024 non-null  object \n",
            " 3   Layover1         28720 non-null  object \n",
            " 4   Layover2         11242 non-null  object \n",
            " 5   Layover3         7 non-null      object \n",
            " 6   Destination      30024 non-null  object \n",
            " 7   Flight Operator  30024 non-null  object \n",
            " 8   Flight Number    30024 non-null  object \n",
            " 9   Departure Date   30024 non-null  object \n",
            " 10  Departure Time   30024 non-null  object \n",
            " 11  Arrival Date     30024 non-null  object \n",
            " 12  Arrival Time     30024 non-null  object \n",
            " 13  Total Time       30024 non-null  object \n",
            " 14  Number Of Stops  30024 non-null  int64  \n",
            " 15  Fare             30024 non-null  float64\n",
            "dtypes: float64(1), int64(1), object(14)\n",
            "memory usage: 3.7+ MB\n"
          ],
          "name": "stdout"
        }
      ]
    },
    {
      "cell_type": "code",
      "metadata": {
        "colab": {
          "base_uri": "https://localhost:8080/"
        },
        "id": "NKNC66d6nvOq",
        "outputId": "df8fc5dc-20c6-4e21-bf94-2f60eda5f5f1"
      },
      "source": [
        "flight_data.shape"
      ],
      "execution_count": null,
      "outputs": [
        {
          "output_type": "execute_result",
          "data": {
            "text/plain": [
              "(30024, 16)"
            ]
          },
          "metadata": {
            "tags": []
          },
          "execution_count": 10
        }
      ]
    },
    {
      "cell_type": "code",
      "metadata": {
        "id": "gqRQAFnPn1L5"
      },
      "source": [
        "#As unique Id is of no use for getting any valid information as it is unqiue for each\n",
        "#case and is of no use "
      ],
      "execution_count": null,
      "outputs": []
    },
    {
      "cell_type": "code",
      "metadata": {
        "colab": {
          "base_uri": "https://localhost:8080/",
          "height": 269
        },
        "id": "4B4U3Mx4oBDP",
        "outputId": "44d9c76f-f7cf-4207-85ab-80cd2c529249"
      },
      "source": [
        "# flight_data.drop([\"Uniq Id\"], axis=1,inplace=True)\n",
        "flight_data.head(2)"
      ],
      "execution_count": null,
      "outputs": [
        {
          "output_type": "execute_result",
          "data": {
            "text/html": [
              "<div>\n",
              "<style scoped>\n",
              "    .dataframe tbody tr th:only-of-type {\n",
              "        vertical-align: middle;\n",
              "    }\n",
              "\n",
              "    .dataframe tbody tr th {\n",
              "        vertical-align: top;\n",
              "    }\n",
              "\n",
              "    .dataframe thead th {\n",
              "        text-align: right;\n",
              "    }\n",
              "</style>\n",
              "<table border=\"1\" class=\"dataframe\">\n",
              "  <thead>\n",
              "    <tr style=\"text-align: right;\">\n",
              "      <th></th>\n",
              "      <th>Uniq Id</th>\n",
              "      <th>Crawl Timestamp</th>\n",
              "      <th>Source</th>\n",
              "      <th>Layover1</th>\n",
              "      <th>Layover2</th>\n",
              "      <th>Layover3</th>\n",
              "      <th>Destination</th>\n",
              "      <th>Flight Operator</th>\n",
              "      <th>Flight Number</th>\n",
              "      <th>Departure Date</th>\n",
              "      <th>Departure Time</th>\n",
              "      <th>Arrival Date</th>\n",
              "      <th>Arrival Time</th>\n",
              "      <th>Total Time</th>\n",
              "      <th>Number Of Stops</th>\n",
              "      <th>Fare</th>\n",
              "    </tr>\n",
              "  </thead>\n",
              "  <tbody>\n",
              "    <tr>\n",
              "      <th>0</th>\n",
              "      <td>723b6dbcffbdfc2c29321c248cb14a9d</td>\n",
              "      <td>2020-02-01 00:46:15 +0000</td>\n",
              "      <td>Dubai</td>\n",
              "      <td>Muscat</td>\n",
              "      <td>Delhi</td>\n",
              "      <td>NaN</td>\n",
              "      <td>Kolkata</td>\n",
              "      <td>Oman Air|Oman Air|Air India</td>\n",
              "      <td>WY-612|WY-241|AI-764</td>\n",
              "      <td>06Feb2020</td>\n",
              "      <td>22:45</td>\n",
              "      <td>07Feb2020</td>\n",
              "      <td>19:10</td>\n",
              "      <td>18h 55m</td>\n",
              "      <td>2</td>\n",
              "      <td>26224.0</td>\n",
              "    </tr>\n",
              "    <tr>\n",
              "      <th>1</th>\n",
              "      <td>75624e36d7e8ea7e40cc5c33e6c96c01</td>\n",
              "      <td>2020-01-13 13:29:00 +0000</td>\n",
              "      <td>Delhi</td>\n",
              "      <td>NaN</td>\n",
              "      <td>NaN</td>\n",
              "      <td>NaN</td>\n",
              "      <td>Patna</td>\n",
              "      <td>SpiceJet</td>\n",
              "      <td>SG-8480</td>\n",
              "      <td>01Feb2020</td>\n",
              "      <td>15:45</td>\n",
              "      <td>01Feb2020</td>\n",
              "      <td>17:25</td>\n",
              "      <td>01h 40m</td>\n",
              "      <td>0</td>\n",
              "      <td>2889.0</td>\n",
              "    </tr>\n",
              "  </tbody>\n",
              "</table>\n",
              "</div>"
            ],
            "text/plain": [
              "                            Uniq Id  ...     Fare\n",
              "0  723b6dbcffbdfc2c29321c248cb14a9d  ...  26224.0\n",
              "1  75624e36d7e8ea7e40cc5c33e6c96c01  ...   2889.0\n",
              "\n",
              "[2 rows x 16 columns]"
            ]
          },
          "metadata": {
            "tags": []
          },
          "execution_count": 12
        }
      ]
    },
    {
      "cell_type": "code",
      "metadata": {
        "colab": {
          "base_uri": "https://localhost:8080/"
        },
        "id": "ZUiOPN11oUTZ",
        "outputId": "82e07c72-46cf-4d01-a31b-00db5f0457c3"
      },
      "source": [
        "flight_data[\"Source\"].unique()"
      ],
      "execution_count": null,
      "outputs": [
        {
          "output_type": "execute_result",
          "data": {
            "text/plain": [
              "array(['Dubai', 'Delhi', 'Mumbai', 'Nagpur', 'Jeddah', 'Kochi', 'Bhopal',\n",
              "       'Don Mueang', 'Riyadh', 'Bengaluru', 'Guwahati', 'Amritsar',\n",
              "       'Kualalumpur', 'Vadodara', 'Brusells', 'Dehra Dun', 'Hong Kong',\n",
              "       'Birmingham', 'Kolkata', 'Kozhikode', 'Chicago', 'Hyderabad',\n",
              "       'Bhubaneswar', 'Johannesberg', 'Paris', 'Chandigarh', 'Ahmedabad',\n",
              "       'Singapore', 'Bangkok', 'Abudhabi', 'Leipzig', 'Al Ain',\n",
              "       'Coimbatore', 'Jammu', 'Chittagong', 'Trivandrum', 'Dammam',\n",
              "       'Dhaka', 'Bahrain', 'Jaipur', 'Chennai', 'London', 'Pune',\n",
              "       'Addis Ababa', 'Madurai', 'Mangalore', 'Frankfurt', 'Colombo',\n",
              "       'Guangzhou', 'Port Blair', 'Newark', 'Jodhpur', 'Vancouver',\n",
              "       'Agartala', 'Kuwait', 'Copenhagen', 'Goa', 'Udaipur', 'Lucknow',\n",
              "       'Amsterdam', 'Cairo', 'Almaty', 'Moscow', 'Istanbul', 'Muenchen',\n",
              "       'Hubli', 'Ashgabat', 'Allahabad', 'Tokyo', 'Indore', 'Tirupati',\n",
              "       'Raipur', 'Patna', 'Aizawl', 'Maruitius', 'Bagdogra', 'Cologne',\n",
              "       'Imphal', 'Basra', 'Taipae', 'Muscat', 'Sharjah', 'Bishkek',\n",
              "       'Rangoon', 'Male', 'Rajkot', 'Aurangabad', 'Baku', 'Antalya',\n",
              "       'Osaka', 'Sydney', 'Kathmandu', 'Phuket', 'New York', 'Helnski',\n",
              "       'Kunming', 'Toronto', 'Washington, Dc', 'Medina', 'Telaviv',\n",
              "       'Jorhat', 'Baghdad', 'Shanghai', 'Karachi', 'Seoul', 'Luxembourg',\n",
              "       'Nairobi', 'San Francisco', 'Manchester', 'Malpensa', 'Vienna',\n",
              "       'Astana', 'Seychelles', 'Kigali', 'Kabul', 'Narita', 'Leh',\n",
              "       'Dibrugarh', 'Gorakhpur', 'Vijayawada', 'Zurich', 'Peking',\n",
              "       'Denpasar', 'Kannur', 'Belgaum', 'Tehran', 'Ranchi', 'Surat',\n",
              "       'Tashkent', 'Ho Chi Minh City', 'Silchar', 'Rome', 'Madrid',\n",
              "       'Salalah', 'Melbourne', 'Lahore', 'Stockholm', 'Cochin', 'Gaya',\n",
              "       'Mashhad', 'Tangerang', 'Mandalay', 'Dharamsala', 'Shenzhen',\n",
              "       'Reunion', 'Kadapa', 'Bhuj', 'Agatti Island', 'Srinagar',\n",
              "       'Dimapur', 'Rajahmundry', 'Navoi', 'Dushanbe', 'Jaisalmer',\n",
              "       'Pondicherry', 'Addu City', 'Kandahar', 'Mazar-I-Sharif', 'Herat',\n",
              "       'Agra', 'Lilabari'], dtype=object)"
            ]
          },
          "metadata": {
            "tags": []
          },
          "execution_count": 13
        }
      ]
    },
    {
      "cell_type": "code",
      "metadata": {
        "colab": {
          "base_uri": "https://localhost:8080/"
        },
        "id": "JWkEU6WJpLt7",
        "outputId": "ac491b55-eb9c-4be3-9580-ee87afbc9fb3"
      },
      "source": [
        "flight_data[\"Flight Operator\"].value_counts()"
      ],
      "execution_count": null,
      "outputs": [
        {
          "output_type": "execute_result",
          "data": {
            "text/plain": [
              "Air India|Air India|Air India                                    5581\n",
              "Air India|Air India                                              3810\n",
              "Indigo|Indigo                                                    3434\n",
              "Vistara|Vistara                                                  1453\n",
              "Emirates Airlines|Emirates Airlines                              1099\n",
              "                                                                 ... \n",
              "Lufthansa Airways|Lufthansa Airways|Aeroflot Russian Airlines       1\n",
              "Uni Airways|Cathay Pacific Airways|Cathay Pacific Airways           1\n",
              "Asiana Airlines|Asiana Airlines|China Eastern Airlines              1\n",
              "Delta Airlines|Alitalia|Alitalia                                    1\n",
              "Hainan Airlines|China Eastern Airlines                              1\n",
              "Name: Flight Operator, Length: 679, dtype: int64"
            ]
          },
          "metadata": {
            "tags": []
          },
          "execution_count": 14
        }
      ]
    },
    {
      "cell_type": "code",
      "metadata": {
        "id": "noObU9ZypqtL"
      },
      "source": [
        "data=flight_data.groupby(\"Source\")[\"Uniq Id\"].agg({\"count\"})"
      ],
      "execution_count": null,
      "outputs": []
    },
    {
      "cell_type": "code",
      "metadata": {
        "id": "JaS8Xr67zNLR"
      },
      "source": [
        "import seaborn as sns\n",
        "import matplotlib.pyplot as plt\n"
      ],
      "execution_count": null,
      "outputs": []
    },
    {
      "cell_type": "code",
      "metadata": {
        "colab": {
          "base_uri": "https://localhost:8080/",
          "height": 515
        },
        "id": "KVTQMO8NzQqZ",
        "outputId": "52d00495-891b-4cac-c63f-ae6e5fb20174"
      },
      "source": [
        "plt.figure(figsize=(16,8))\n",
        "sns.lineplot(data=data, x=\"Source\",y=\"count\" )"
      ],
      "execution_count": null,
      "outputs": [
        {
          "output_type": "execute_result",
          "data": {
            "text/plain": [
              "<matplotlib.axes._subplots.AxesSubplot at 0x7f5206862ad0>"
            ]
          },
          "metadata": {
            "tags": []
          },
          "execution_count": 17
        },
        {
          "output_type": "display_data",
          "data": {
            "image/png": "[encoded data removed]",
            "text/plain": [
              "<Figure size 1152x576 with 1 Axes>"
            ]
          },
          "metadata": {
            "tags": [],
            "needs_background": "light"
          }
        }
      ]
    },
    {
      "cell_type": "code",
      "metadata": {
        "id": "pU57llMvqYB0"
      },
      "source": [
        "#data= data.sort_values(by=\"count\",  ascending=False)"
      ],
      "execution_count": null,
      "outputs": []
    },
    {
      "cell_type": "code",
      "metadata": {
        "colab": {
          "base_uri": "https://localhost:8080/",
          "height": 446
        },
        "id": "REx1m4fRqtZY",
        "outputId": "488b03f2-048b-4c13-b440-069b56c392de"
      },
      "source": [
        "data"
      ],
      "execution_count": null,
      "outputs": [
        {
          "output_type": "execute_result",
          "data": {
            "text/html": [
              "<div>\n",
              "<style scoped>\n",
              "    .dataframe tbody tr th:only-of-type {\n",
              "        vertical-align: middle;\n",
              "    }\n",
              "\n",
              "    .dataframe tbody tr th {\n",
              "        vertical-align: top;\n",
              "    }\n",
              "\n",
              "    .dataframe thead th {\n",
              "        text-align: right;\n",
              "    }\n",
              "</style>\n",
              "<table border=\"1\" class=\"dataframe\">\n",
              "  <thead>\n",
              "    <tr style=\"text-align: right;\">\n",
              "      <th></th>\n",
              "      <th>count</th>\n",
              "    </tr>\n",
              "    <tr>\n",
              "      <th>Source</th>\n",
              "      <th></th>\n",
              "    </tr>\n",
              "  </thead>\n",
              "  <tbody>\n",
              "    <tr>\n",
              "      <th>Abudhabi</th>\n",
              "      <td>501</td>\n",
              "    </tr>\n",
              "    <tr>\n",
              "      <th>Addis Ababa</th>\n",
              "      <td>89</td>\n",
              "    </tr>\n",
              "    <tr>\n",
              "      <th>Addu City</th>\n",
              "      <td>2</td>\n",
              "    </tr>\n",
              "    <tr>\n",
              "      <th>Agartala</th>\n",
              "      <td>83</td>\n",
              "    </tr>\n",
              "    <tr>\n",
              "      <th>Agatti Island</th>\n",
              "      <td>6</td>\n",
              "    </tr>\n",
              "    <tr>\n",
              "      <th>...</th>\n",
              "      <td>...</td>\n",
              "    </tr>\n",
              "    <tr>\n",
              "      <th>Vancouver</th>\n",
              "      <td>54</td>\n",
              "    </tr>\n",
              "    <tr>\n",
              "      <th>Vienna</th>\n",
              "      <td>56</td>\n",
              "    </tr>\n",
              "    <tr>\n",
              "      <th>Vijayawada</th>\n",
              "      <td>19</td>\n",
              "    </tr>\n",
              "    <tr>\n",
              "      <th>Washington, Dc</th>\n",
              "      <td>92</td>\n",
              "    </tr>\n",
              "    <tr>\n",
              "      <th>Zurich</th>\n",
              "      <td>121</td>\n",
              "    </tr>\n",
              "  </tbody>\n",
              "</table>\n",
              "<p>161 rows × 1 columns</p>\n",
              "</div>"
            ],
            "text/plain": [
              "                count\n",
              "Source               \n",
              "Abudhabi          501\n",
              "Addis Ababa        89\n",
              "Addu City           2\n",
              "Agartala           83\n",
              "Agatti Island       6\n",
              "...               ...\n",
              "Vancouver          54\n",
              "Vienna             56\n",
              "Vijayawada         19\n",
              "Washington, Dc     92\n",
              "Zurich            121\n",
              "\n",
              "[161 rows x 1 columns]"
            ]
          },
          "metadata": {
            "tags": []
          },
          "execution_count": 19
        }
      ]
    },
    {
      "cell_type": "code",
      "metadata": {
        "colab": {
          "base_uri": "https://localhost:8080/",
          "height": 446
        },
        "id": "hPU4Uda4rudB",
        "outputId": "9637695a-debd-4841-cfb6-b30a38a20064"
      },
      "source": [
        "destn=flight_data.groupby(\"Destination\")[\"Uniq Id\"].agg({\"count\"})\n",
        "#destn=destn.sort_values(by=\"count\",  ascending=False)\n",
        "destn"
      ],
      "execution_count": null,
      "outputs": [
        {
          "output_type": "execute_result",
          "data": {
            "text/html": [
              "<div>\n",
              "<style scoped>\n",
              "    .dataframe tbody tr th:only-of-type {\n",
              "        vertical-align: middle;\n",
              "    }\n",
              "\n",
              "    .dataframe tbody tr th {\n",
              "        vertical-align: top;\n",
              "    }\n",
              "\n",
              "    .dataframe thead th {\n",
              "        text-align: right;\n",
              "    }\n",
              "</style>\n",
              "<table border=\"1\" class=\"dataframe\">\n",
              "  <thead>\n",
              "    <tr style=\"text-align: right;\">\n",
              "      <th></th>\n",
              "      <th>count</th>\n",
              "    </tr>\n",
              "    <tr>\n",
              "      <th>Destination</th>\n",
              "      <th></th>\n",
              "    </tr>\n",
              "  </thead>\n",
              "  <tbody>\n",
              "    <tr>\n",
              "      <th>Agartala</th>\n",
              "      <td>218</td>\n",
              "    </tr>\n",
              "    <tr>\n",
              "      <th>Ahmedabad</th>\n",
              "      <td>372</td>\n",
              "    </tr>\n",
              "    <tr>\n",
              "      <th>Ajmer</th>\n",
              "      <td>3</td>\n",
              "    </tr>\n",
              "    <tr>\n",
              "      <th>Allahabad</th>\n",
              "      <td>42</td>\n",
              "    </tr>\n",
              "    <tr>\n",
              "      <th>Amritsar</th>\n",
              "      <td>269</td>\n",
              "    </tr>\n",
              "    <tr>\n",
              "      <th>...</th>\n",
              "      <td>...</td>\n",
              "    </tr>\n",
              "    <tr>\n",
              "      <th>Udaipur</th>\n",
              "      <td>341</td>\n",
              "    </tr>\n",
              "    <tr>\n",
              "      <th>Vadodara</th>\n",
              "      <td>33</td>\n",
              "    </tr>\n",
              "    <tr>\n",
              "      <th>Varanasi</th>\n",
              "      <td>688</td>\n",
              "    </tr>\n",
              "    <tr>\n",
              "      <th>Vijayawada</th>\n",
              "      <td>229</td>\n",
              "    </tr>\n",
              "    <tr>\n",
              "      <th>Visakhapatnam</th>\n",
              "      <td>658</td>\n",
              "    </tr>\n",
              "  </tbody>\n",
              "</table>\n",
              "<p>85 rows × 1 columns</p>\n",
              "</div>"
            ],
            "text/plain": [
              "               count\n",
              "Destination         \n",
              "Agartala         218\n",
              "Ahmedabad        372\n",
              "Ajmer              3\n",
              "Allahabad         42\n",
              "Amritsar         269\n",
              "...              ...\n",
              "Udaipur          341\n",
              "Vadodara          33\n",
              "Varanasi         688\n",
              "Vijayawada       229\n",
              "Visakhapatnam    658\n",
              "\n",
              "[85 rows x 1 columns]"
            ]
          },
          "metadata": {
            "tags": []
          },
          "execution_count": 20
        }
      ]
    },
    {
      "cell_type": "code",
      "metadata": {
        "id": "JLkyWIJ30Y16"
      },
      "source": [
        "destn=flight_data.groupby(\"Destination\")[\"Uniq Id\"].agg({\"count\"})"
      ],
      "execution_count": null,
      "outputs": []
    },
    {
      "cell_type": "code",
      "metadata": {
        "colab": {
          "base_uri": "https://localhost:8080/",
          "height": 466
        },
        "id": "LBBOTrIP0PB8",
        "outputId": "dda62632-d005-4b18-99f7-d453d9b4ad3f"
      },
      "source": [
        "plt.figure(figsize=(16,8))\n",
        "sns.lineplot(data=destn, x=\"Destination\",y=\"count\",color='red' )"
      ],
      "execution_count": null,
      "outputs": [
        {
          "output_type": "execute_result",
          "data": {
            "text/plain": [
              "<matplotlib.axes._subplots.AxesSubplot at 0x7f5214334210>"
            ]
          },
          "metadata": {
            "tags": []
          },
          "execution_count": 22
        },
        {
          "output_type": "display_data",
          "data": {
            "image/png": "[encoded data removed]",
            "text/plain": [
              "<Figure size 1152x576 with 1 Axes>"
            ]
          },
          "metadata": {
            "tags": [],
            "needs_background": "light"
          }
        }
      ]
    },
    {
      "cell_type": "code",
      "metadata": {
        "colab": {
          "base_uri": "https://localhost:8080/"
        },
        "id": "_fObrBnir4AP",
        "outputId": "1cb1dce2-dd42-4aab-d572-757e4b06c6c0"
      },
      "source": [
        "city_count=flight_data.groupby(\"Source\")[\"Uniq Id\"].count().to_dict()\n",
        "city_count"
      ],
      "execution_count": null,
      "outputs": [
        {
          "output_type": "execute_result",
          "data": {
            "text/plain": [
              "{'Abudhabi': 501,\n",
              " 'Addis Ababa': 89,\n",
              " 'Addu City': 2,\n",
              " 'Agartala': 83,\n",
              " 'Agatti Island': 6,\n",
              " 'Agra': 1,\n",
              " 'Ahmedabad': 1165,\n",
              " 'Aizawl': 70,\n",
              " 'Al Ain': 60,\n",
              " 'Allahabad': 18,\n",
              " 'Almaty': 45,\n",
              " 'Amritsar': 400,\n",
              " 'Amsterdam': 269,\n",
              " 'Antalya': 86,\n",
              " 'Ashgabat': 11,\n",
              " 'Astana': 27,\n",
              " 'Aurangabad': 14,\n",
              " 'Bagdogra': 78,\n",
              " 'Baghdad': 32,\n",
              " 'Bahrain': 317,\n",
              " 'Baku': 10,\n",
              " 'Bangkok': 651,\n",
              " 'Basra': 24,\n",
              " 'Belgaum': 14,\n",
              " 'Bengaluru': 1729,\n",
              " 'Bhopal': 284,\n",
              " 'Bhubaneswar': 575,\n",
              " 'Bhuj': 7,\n",
              " 'Birmingham': 80,\n",
              " 'Bishkek': 14,\n",
              " 'Brusells': 138,\n",
              " 'Cairo': 56,\n",
              " 'Chandigarh': 209,\n",
              " 'Chennai': 452,\n",
              " 'Chicago': 111,\n",
              " 'Chittagong': 5,\n",
              " 'Cochin': 61,\n",
              " 'Coimbatore': 370,\n",
              " 'Cologne': 79,\n",
              " 'Colombo': 440,\n",
              " 'Copenhagen': 44,\n",
              " 'Dammam': 445,\n",
              " 'Dehra Dun': 265,\n",
              " 'Delhi': 1151,\n",
              " 'Denpasar': 90,\n",
              " 'Dhaka': 169,\n",
              " 'Dharamsala': 6,\n",
              " 'Dibrugarh': 17,\n",
              " 'Dimapur': 4,\n",
              " 'Don Mueang': 335,\n",
              " 'Dubai': 1099,\n",
              " 'Dushanbe': 15,\n",
              " 'Frankfurt': 413,\n",
              " 'Gaya': 10,\n",
              " 'Goa': 549,\n",
              " 'Gorakhpur': 21,\n",
              " 'Guangzhou': 91,\n",
              " 'Guwahati': 422,\n",
              " 'Helnski': 50,\n",
              " 'Herat': 1,\n",
              " 'Ho Chi Minh City': 92,\n",
              " 'Hong Kong': 351,\n",
              " 'Hubli': 61,\n",
              " 'Hyderabad': 956,\n",
              " 'Imphal': 58,\n",
              " 'Indore': 273,\n",
              " 'Istanbul': 109,\n",
              " 'Jaipur': 246,\n",
              " 'Jaisalmer': 1,\n",
              " 'Jammu': 117,\n",
              " 'Jeddah': 437,\n",
              " 'Jodhpur': 49,\n",
              " 'Johannesberg': 59,\n",
              " 'Jorhat': 2,\n",
              " 'Kabul': 13,\n",
              " 'Kadapa': 2,\n",
              " 'Kandahar': 1,\n",
              " 'Kannur': 24,\n",
              " 'Karachi': 51,\n",
              " 'Kathmandu': 175,\n",
              " 'Kigali': 28,\n",
              " 'Kochi': 562,\n",
              " 'Kolkata': 1155,\n",
              " 'Kozhikode': 195,\n",
              " 'Kualalumpur': 551,\n",
              " 'Kunming': 70,\n",
              " 'Kuwait': 556,\n",
              " 'Lahore': 11,\n",
              " 'Leh': 4,\n",
              " 'Leipzig': 109,\n",
              " 'Lilabari': 1,\n",
              " 'London': 513,\n",
              " 'Lucknow': 239,\n",
              " 'Luxembourg': 157,\n",
              " 'Madrid': 54,\n",
              " 'Madurai': 62,\n",
              " 'Male': 179,\n",
              " 'Malpensa': 133,\n",
              " 'Manchester': 98,\n",
              " 'Mandalay': 4,\n",
              " 'Mangalore': 123,\n",
              " 'Maruitius': 130,\n",
              " 'Mashhad': 6,\n",
              " 'Mazar-I-Sharif': 1,\n",
              " 'Medina': 193,\n",
              " 'Melbourne': 77,\n",
              " 'Moscow': 193,\n",
              " 'Muenchen': 119,\n",
              " 'Mumbai': 1919,\n",
              " 'Muscat': 508,\n",
              " 'Nagpur': 40,\n",
              " 'Nairobi': 37,\n",
              " 'Narita': 121,\n",
              " 'Navoi': 6,\n",
              " 'New York': 157,\n",
              " 'Newark': 207,\n",
              " 'Osaka': 127,\n",
              " 'Paris': 273,\n",
              " 'Patna': 145,\n",
              " 'Peking': 60,\n",
              " 'Phuket': 148,\n",
              " 'Pondicherry': 1,\n",
              " 'Port Blair': 89,\n",
              " 'Pune': 91,\n",
              " 'Raipur': 55,\n",
              " 'Rajahmundry': 5,\n",
              " 'Rajkot': 17,\n",
              " 'Ranchi': 78,\n",
              " 'Rangoon': 98,\n",
              " 'Reunion': 14,\n",
              " 'Riyadh': 451,\n",
              " 'Rome': 67,\n",
              " 'Salalah': 88,\n",
              " 'San Francisco': 103,\n",
              " 'Seoul': 151,\n",
              " 'Seychelles': 12,\n",
              " 'Shanghai': 129,\n",
              " 'Sharjah': 253,\n",
              " 'Shenzhen': 27,\n",
              " 'Silchar': 8,\n",
              " 'Singapore': 757,\n",
              " 'Srinagar': 18,\n",
              " 'Stockholm': 71,\n",
              " 'Surat': 24,\n",
              " 'Sydney': 58,\n",
              " 'Taipae': 99,\n",
              " 'Tangerang': 45,\n",
              " 'Tashkent': 41,\n",
              " 'Tehran': 58,\n",
              " 'Telaviv': 89,\n",
              " 'Tirupati': 32,\n",
              " 'Tokyo': 71,\n",
              " 'Toronto': 143,\n",
              " 'Trivandrum': 36,\n",
              " 'Udaipur': 29,\n",
              " 'Vadodara': 246,\n",
              " 'Vancouver': 54,\n",
              " 'Vienna': 56,\n",
              " 'Vijayawada': 19,\n",
              " 'Washington, Dc': 92,\n",
              " 'Zurich': 121}"
            ]
          },
          "metadata": {
            "tags": []
          },
          "execution_count": 23
        }
      ]
    },
    {
      "cell_type": "code",
      "metadata": {
        "id": "AAkSdYH3tas3"
      },
      "source": [
        "flight_data[\"Source Count\"]= flight_data[\"Source\"].map(city_count)"
      ],
      "execution_count": null,
      "outputs": []
    },
    {
      "cell_type": "code",
      "metadata": {
        "colab": {
          "base_uri": "https://localhost:8080/"
        },
        "id": "Jl6Ry0KdtxSH",
        "outputId": "b237c89a-1e01-468a-c56f-55d1a4dd3563"
      },
      "source": [
        "per_1= flight_data.shape[0]*0.005\n",
        "per_1"
      ],
      "execution_count": null,
      "outputs": [
        {
          "output_type": "execute_result",
          "data": {
            "text/plain": [
              "150.12"
            ]
          },
          "metadata": {
            "tags": []
          },
          "execution_count": 25
        }
      ]
    },
    {
      "cell_type": "code",
      "metadata": {
        "colab": {
          "base_uri": "https://localhost:8080/",
          "height": 466
        },
        "id": "ozCQDS5v1OMR",
        "outputId": "db6684c6-9999-4653-b8dd-81f1322b04a5"
      },
      "source": [
        "plt.figure(figsize=(16,8))\n",
        "plt.axhline(y=per_1,color='blue',linestyle='--')\n",
        "sns.lineplot(data=destn, x=\"Destination\",y=\"count\",color='red' )"
      ],
      "execution_count": null,
      "outputs": [
        {
          "output_type": "execute_result",
          "data": {
            "text/plain": [
              "<matplotlib.axes._subplots.AxesSubplot at 0x7f52036016d0>"
            ]
          },
          "metadata": {
            "tags": []
          },
          "execution_count": 26
        },
        {
          "output_type": "display_data",
          "data": {
            "image/png": "[encoded data removed]",
            "text/plain": [
              "<Figure size 1152x576 with 1 Axes>"
            ]
          },
          "metadata": {
            "tags": [],
            "needs_background": "light"
          }
        }
      ]
    },
    {
      "cell_type": "code",
      "metadata": {
        "colab": {
          "base_uri": "https://localhost:8080/",
          "height": 467
        },
        "id": "1IEYzDcs1i7R",
        "outputId": "a4da60d8-9697-4d3a-8c68-90b26f4dff97"
      },
      "source": [
        "plt.figure(figsize=(16,8))\n",
        "plt.axhline(y=per_1,color='red',linestyle='--')\n",
        "sns.lineplot(data=data, x=\"Source\",y=\"count\",color='blue' )"
      ],
      "execution_count": null,
      "outputs": [
        {
          "output_type": "execute_result",
          "data": {
            "text/plain": [
              "<matplotlib.axes._subplots.AxesSubplot at 0x7f51facd3790>"
            ]
          },
          "metadata": {
            "tags": []
          },
          "execution_count": 27
        },
        {
          "output_type": "display_data",
          "data": {
            "image/png": "[encoded data removed]",
            "text/plain": [
              "<Figure size 1152x576 with 1 Axes>"
            ]
          },
          "metadata": {
            "tags": [],
            "needs_background": "light"
          }
        }
      ]
    },
    {
      "cell_type": "code",
      "metadata": {
        "colab": {
          "base_uri": "https://localhost:8080/"
        },
        "id": "5mBTbOLuuBhN",
        "outputId": "2dc70b63-434c-4ab9-9a90-b96a7258e5be"
      },
      "source": [
        "common_source=flight_data.loc[flight_data[\"Source Count\"]>per_1][\"Source\"].unique().tolist()\n",
        "common_source"
      ],
      "execution_count": null,
      "outputs": [
        {
          "output_type": "execute_result",
          "data": {
            "text/plain": [
              "['Dubai',\n",
              " 'Delhi',\n",
              " 'Mumbai',\n",
              " 'Jeddah',\n",
              " 'Kochi',\n",
              " 'Bhopal',\n",
              " 'Don Mueang',\n",
              " 'Riyadh',\n",
              " 'Bengaluru',\n",
              " 'Guwahati',\n",
              " 'Amritsar',\n",
              " 'Kualalumpur',\n",
              " 'Vadodara',\n",
              " 'Dehra Dun',\n",
              " 'Hong Kong',\n",
              " 'Kolkata',\n",
              " 'Kozhikode',\n",
              " 'Hyderabad',\n",
              " 'Bhubaneswar',\n",
              " 'Paris',\n",
              " 'Chandigarh',\n",
              " 'Ahmedabad',\n",
              " 'Singapore',\n",
              " 'Bangkok',\n",
              " 'Abudhabi',\n",
              " 'Coimbatore',\n",
              " 'Dammam',\n",
              " 'Dhaka',\n",
              " 'Bahrain',\n",
              " 'Jaipur',\n",
              " 'Chennai',\n",
              " 'London',\n",
              " 'Frankfurt',\n",
              " 'Colombo',\n",
              " 'Newark',\n",
              " 'Kuwait',\n",
              " 'Goa',\n",
              " 'Lucknow',\n",
              " 'Amsterdam',\n",
              " 'Moscow',\n",
              " 'Indore',\n",
              " 'Muscat',\n",
              " 'Sharjah',\n",
              " 'Male',\n",
              " 'Kathmandu',\n",
              " 'New York',\n",
              " 'Medina',\n",
              " 'Seoul',\n",
              " 'Luxembourg']"
            ]
          },
          "metadata": {
            "tags": []
          },
          "execution_count": 28
        }
      ]
    },
    {
      "cell_type": "code",
      "metadata": {
        "colab": {
          "base_uri": "https://localhost:8080/"
        },
        "id": "qV3K5BNsujOK",
        "outputId": "db62d244-964d-4871-da9c-f50b774ad720"
      },
      "source": [
        "len(common_source)"
      ],
      "execution_count": null,
      "outputs": [
        {
          "output_type": "execute_result",
          "data": {
            "text/plain": [
              "49"
            ]
          },
          "metadata": {
            "tags": []
          },
          "execution_count": 29
        }
      ]
    },
    {
      "cell_type": "code",
      "metadata": {
        "colab": {
          "base_uri": "https://localhost:8080/"
        },
        "id": "vNNr4bYTuq_y",
        "outputId": "9b0bae55-deed-4095-b4db-df6b2e4b45bc"
      },
      "source": [
        "source_encoder={\n",
        "    val:id+1 for id,val in enumerate(common_source)\n",
        "}\n",
        "source_encoder"
      ],
      "execution_count": null,
      "outputs": [
        {
          "output_type": "execute_result",
          "data": {
            "text/plain": [
              "{'Abudhabi': 25,\n",
              " 'Ahmedabad': 22,\n",
              " 'Amritsar': 11,\n",
              " 'Amsterdam': 39,\n",
              " 'Bahrain': 29,\n",
              " 'Bangkok': 24,\n",
              " 'Bengaluru': 9,\n",
              " 'Bhopal': 6,\n",
              " 'Bhubaneswar': 19,\n",
              " 'Chandigarh': 21,\n",
              " 'Chennai': 31,\n",
              " 'Coimbatore': 26,\n",
              " 'Colombo': 34,\n",
              " 'Dammam': 27,\n",
              " 'Dehra Dun': 14,\n",
              " 'Delhi': 2,\n",
              " 'Dhaka': 28,\n",
              " 'Don Mueang': 7,\n",
              " 'Dubai': 1,\n",
              " 'Frankfurt': 33,\n",
              " 'Goa': 37,\n",
              " 'Guwahati': 10,\n",
              " 'Hong Kong': 15,\n",
              " 'Hyderabad': 18,\n",
              " 'Indore': 41,\n",
              " 'Jaipur': 30,\n",
              " 'Jeddah': 4,\n",
              " 'Kathmandu': 45,\n",
              " 'Kochi': 5,\n",
              " 'Kolkata': 16,\n",
              " 'Kozhikode': 17,\n",
              " 'Kualalumpur': 12,\n",
              " 'Kuwait': 36,\n",
              " 'London': 32,\n",
              " 'Lucknow': 38,\n",
              " 'Luxembourg': 49,\n",
              " 'Male': 44,\n",
              " 'Medina': 47,\n",
              " 'Moscow': 40,\n",
              " 'Mumbai': 3,\n",
              " 'Muscat': 42,\n",
              " 'New York': 46,\n",
              " 'Newark': 35,\n",
              " 'Paris': 20,\n",
              " 'Riyadh': 8,\n",
              " 'Seoul': 48,\n",
              " 'Sharjah': 43,\n",
              " 'Singapore': 23,\n",
              " 'Vadodara': 13}"
            ]
          },
          "metadata": {
            "tags": []
          },
          "execution_count": 30
        }
      ]
    },
    {
      "cell_type": "code",
      "metadata": {
        "id": "5nNLW_c0u9jP"
      },
      "source": [
        "null_for_source={\n",
        "    \"Source Encoded\":0\n",
        "}"
      ],
      "execution_count": null,
      "outputs": []
    },
    {
      "cell_type": "code",
      "metadata": {
        "id": "xCdlY9Pavrea"
      },
      "source": [
        "flight_data[\"Source Encoded\"]= flight_data[\"Source\"].map(source_encoder)"
      ],
      "execution_count": null,
      "outputs": []
    },
    {
      "cell_type": "code",
      "metadata": {
        "id": "q3pxagEav5NI"
      },
      "source": [
        "flight_data.fillna(value=null_for_source, inplace=True)"
      ],
      "execution_count": null,
      "outputs": []
    },
    {
      "cell_type": "code",
      "metadata": {
        "colab": {
          "base_uri": "https://localhost:8080/",
          "height": 269
        },
        "id": "8NbZlMazwRfB",
        "outputId": "6288f837-69bb-4f76-8b84-02bcb822534a"
      },
      "source": [
        "flight_data.head(2)"
      ],
      "execution_count": null,
      "outputs": [
        {
          "output_type": "execute_result",
          "data": {
            "text/html": [
              "<div>\n",
              "<style scoped>\n",
              "    .dataframe tbody tr th:only-of-type {\n",
              "        vertical-align: middle;\n",
              "    }\n",
              "\n",
              "    .dataframe tbody tr th {\n",
              "        vertical-align: top;\n",
              "    }\n",
              "\n",
              "    .dataframe thead th {\n",
              "        text-align: right;\n",
              "    }\n",
              "</style>\n",
              "<table border=\"1\" class=\"dataframe\">\n",
              "  <thead>\n",
              "    <tr style=\"text-align: right;\">\n",
              "      <th></th>\n",
              "      <th>Uniq Id</th>\n",
              "      <th>Crawl Timestamp</th>\n",
              "      <th>Source</th>\n",
              "      <th>Layover1</th>\n",
              "      <th>Layover2</th>\n",
              "      <th>Layover3</th>\n",
              "      <th>Destination</th>\n",
              "      <th>Flight Operator</th>\n",
              "      <th>Flight Number</th>\n",
              "      <th>Departure Date</th>\n",
              "      <th>Departure Time</th>\n",
              "      <th>Arrival Date</th>\n",
              "      <th>Arrival Time</th>\n",
              "      <th>Total Time</th>\n",
              "      <th>Number Of Stops</th>\n",
              "      <th>Fare</th>\n",
              "      <th>Source Count</th>\n",
              "      <th>Source Encoded</th>\n",
              "    </tr>\n",
              "  </thead>\n",
              "  <tbody>\n",
              "    <tr>\n",
              "      <th>0</th>\n",
              "      <td>723b6dbcffbdfc2c29321c248cb14a9d</td>\n",
              "      <td>2020-02-01 00:46:15 +0000</td>\n",
              "      <td>Dubai</td>\n",
              "      <td>Muscat</td>\n",
              "      <td>Delhi</td>\n",
              "      <td>NaN</td>\n",
              "      <td>Kolkata</td>\n",
              "      <td>Oman Air|Oman Air|Air India</td>\n",
              "      <td>WY-612|WY-241|AI-764</td>\n",
              "      <td>06Feb2020</td>\n",
              "      <td>22:45</td>\n",
              "      <td>07Feb2020</td>\n",
              "      <td>19:10</td>\n",
              "      <td>18h 55m</td>\n",
              "      <td>2</td>\n",
              "      <td>26224.0</td>\n",
              "      <td>1099</td>\n",
              "      <td>1.0</td>\n",
              "    </tr>\n",
              "    <tr>\n",
              "      <th>1</th>\n",
              "      <td>75624e36d7e8ea7e40cc5c33e6c96c01</td>\n",
              "      <td>2020-01-13 13:29:00 +0000</td>\n",
              "      <td>Delhi</td>\n",
              "      <td>NaN</td>\n",
              "      <td>NaN</td>\n",
              "      <td>NaN</td>\n",
              "      <td>Patna</td>\n",
              "      <td>SpiceJet</td>\n",
              "      <td>SG-8480</td>\n",
              "      <td>01Feb2020</td>\n",
              "      <td>15:45</td>\n",
              "      <td>01Feb2020</td>\n",
              "      <td>17:25</td>\n",
              "      <td>01h 40m</td>\n",
              "      <td>0</td>\n",
              "      <td>2889.0</td>\n",
              "      <td>1151</td>\n",
              "      <td>2.0</td>\n",
              "    </tr>\n",
              "  </tbody>\n",
              "</table>\n",
              "</div>"
            ],
            "text/plain": [
              "                            Uniq Id  ... Source Encoded\n",
              "0  723b6dbcffbdfc2c29321c248cb14a9d  ...            1.0\n",
              "1  75624e36d7e8ea7e40cc5c33e6c96c01  ...            2.0\n",
              "\n",
              "[2 rows x 18 columns]"
            ]
          },
          "metadata": {
            "tags": []
          },
          "execution_count": 34
        }
      ]
    },
    {
      "cell_type": "code",
      "metadata": {
        "id": "dM8KUE1Awp4h"
      },
      "source": [
        "null_for_destn={\n",
        "    \"Destination Encoded\":0\n",
        "}"
      ],
      "execution_count": null,
      "outputs": []
    },
    {
      "cell_type": "code",
      "metadata": {
        "id": "yhy4nPD1wUaG"
      },
      "source": [
        "flight_data[\"Destination Encoded\"]= flight_data[\"Destination\"].map(source_encoder)\n",
        "flight_data.fillna(value=null_for_destn, inplace=True)"
      ],
      "execution_count": null,
      "outputs": []
    },
    {
      "cell_type": "code",
      "metadata": {
        "colab": {
          "base_uri": "https://localhost:8080/",
          "height": 351
        },
        "id": "YtRM73Ahw7x6",
        "outputId": "39c690aa-afd3-4845-c7a7-e1989da8dfa4"
      },
      "source": [
        "flight_data.head(3)"
      ],
      "execution_count": null,
      "outputs": [
        {
          "output_type": "execute_result",
          "data": {
            "text/html": [
              "<div>\n",
              "<style scoped>\n",
              "    .dataframe tbody tr th:only-of-type {\n",
              "        vertical-align: middle;\n",
              "    }\n",
              "\n",
              "    .dataframe tbody tr th {\n",
              "        vertical-align: top;\n",
              "    }\n",
              "\n",
              "    .dataframe thead th {\n",
              "        text-align: right;\n",
              "    }\n",
              "</style>\n",
              "<table border=\"1\" class=\"dataframe\">\n",
              "  <thead>\n",
              "    <tr style=\"text-align: right;\">\n",
              "      <th></th>\n",
              "      <th>Uniq Id</th>\n",
              "      <th>Crawl Timestamp</th>\n",
              "      <th>Source</th>\n",
              "      <th>Layover1</th>\n",
              "      <th>Layover2</th>\n",
              "      <th>Layover3</th>\n",
              "      <th>Destination</th>\n",
              "      <th>Flight Operator</th>\n",
              "      <th>Flight Number</th>\n",
              "      <th>Departure Date</th>\n",
              "      <th>Departure Time</th>\n",
              "      <th>Arrival Date</th>\n",
              "      <th>Arrival Time</th>\n",
              "      <th>Total Time</th>\n",
              "      <th>Number Of Stops</th>\n",
              "      <th>Fare</th>\n",
              "      <th>Source Count</th>\n",
              "      <th>Source Encoded</th>\n",
              "      <th>Destination Encoded</th>\n",
              "    </tr>\n",
              "  </thead>\n",
              "  <tbody>\n",
              "    <tr>\n",
              "      <th>0</th>\n",
              "      <td>723b6dbcffbdfc2c29321c248cb14a9d</td>\n",
              "      <td>2020-02-01 00:46:15 +0000</td>\n",
              "      <td>Dubai</td>\n",
              "      <td>Muscat</td>\n",
              "      <td>Delhi</td>\n",
              "      <td>NaN</td>\n",
              "      <td>Kolkata</td>\n",
              "      <td>Oman Air|Oman Air|Air India</td>\n",
              "      <td>WY-612|WY-241|AI-764</td>\n",
              "      <td>06Feb2020</td>\n",
              "      <td>22:45</td>\n",
              "      <td>07Feb2020</td>\n",
              "      <td>19:10</td>\n",
              "      <td>18h 55m</td>\n",
              "      <td>2</td>\n",
              "      <td>26224.0</td>\n",
              "      <td>1099</td>\n",
              "      <td>1.0</td>\n",
              "      <td>16.0</td>\n",
              "    </tr>\n",
              "    <tr>\n",
              "      <th>1</th>\n",
              "      <td>75624e36d7e8ea7e40cc5c33e6c96c01</td>\n",
              "      <td>2020-01-13 13:29:00 +0000</td>\n",
              "      <td>Delhi</td>\n",
              "      <td>NaN</td>\n",
              "      <td>NaN</td>\n",
              "      <td>NaN</td>\n",
              "      <td>Patna</td>\n",
              "      <td>SpiceJet</td>\n",
              "      <td>SG-8480</td>\n",
              "      <td>01Feb2020</td>\n",
              "      <td>15:45</td>\n",
              "      <td>01Feb2020</td>\n",
              "      <td>17:25</td>\n",
              "      <td>01h 40m</td>\n",
              "      <td>0</td>\n",
              "      <td>2889.0</td>\n",
              "      <td>1151</td>\n",
              "      <td>2.0</td>\n",
              "      <td>0.0</td>\n",
              "    </tr>\n",
              "    <tr>\n",
              "      <th>2</th>\n",
              "      <td>0868155ae620dd8e7cd462e601b5f559</td>\n",
              "      <td>2020-01-01 00:35:50 +0000</td>\n",
              "      <td>Mumbai</td>\n",
              "      <td>Raipur</td>\n",
              "      <td>Kolkata</td>\n",
              "      <td>NaN</td>\n",
              "      <td>Silchar</td>\n",
              "      <td>Air India|Air India|Air India</td>\n",
              "      <td>AI-651|AI-9728|AI-753</td>\n",
              "      <td>23Jan2020</td>\n",
              "      <td>09:40</td>\n",
              "      <td>24Jan2020</td>\n",
              "      <td>07:00</td>\n",
              "      <td>21h 20m</td>\n",
              "      <td>2</td>\n",
              "      <td>13518.0</td>\n",
              "      <td>1919</td>\n",
              "      <td>3.0</td>\n",
              "      <td>0.0</td>\n",
              "    </tr>\n",
              "  </tbody>\n",
              "</table>\n",
              "</div>"
            ],
            "text/plain": [
              "                            Uniq Id  ... Destination Encoded\n",
              "0  723b6dbcffbdfc2c29321c248cb14a9d  ...                16.0\n",
              "1  75624e36d7e8ea7e40cc5c33e6c96c01  ...                 0.0\n",
              "2  0868155ae620dd8e7cd462e601b5f559  ...                 0.0\n",
              "\n",
              "[3 rows x 19 columns]"
            ]
          },
          "metadata": {
            "tags": []
          },
          "execution_count": 37
        }
      ]
    },
    {
      "cell_type": "code",
      "metadata": {
        "colab": {
          "base_uri": "https://localhost:8080/"
        },
        "id": "k5I2QkNpw-Zo",
        "outputId": "9fea8a4f-9b39-4ccf-e182-f68c4b88b141"
      },
      "source": [
        "flight_data[\"Source Encoded\"].corr(flight_data.Fare)"
      ],
      "execution_count": null,
      "outputs": [
        {
          "output_type": "execute_result",
          "data": {
            "text/plain": [
              "0.012550471652281568"
            ]
          },
          "metadata": {
            "tags": []
          },
          "execution_count": 38
        }
      ]
    },
    {
      "cell_type": "code",
      "metadata": {
        "colab": {
          "base_uri": "https://localhost:8080/"
        },
        "id": "Cyca4a3bxjp6",
        "outputId": "6b910a6e-1bfe-4b14-bafe-065feba02b68"
      },
      "source": [
        "flight_data[\"Destination Encoded\"].corr(flight_data.Fare)"
      ],
      "execution_count": null,
      "outputs": [
        {
          "output_type": "execute_result",
          "data": {
            "text/plain": [
              "-0.04079053891944303"
            ]
          },
          "metadata": {
            "tags": []
          },
          "execution_count": 39
        }
      ]
    },
    {
      "cell_type": "code",
      "metadata": {
        "colab": {
          "base_uri": "https://localhost:8080/",
          "height": 269
        },
        "id": "mpTbUtLBxrLU",
        "outputId": "239fe39b-d283-4ae7-9394-71880a06f6f4"
      },
      "source": [
        "flight_data.head(2)"
      ],
      "execution_count": null,
      "outputs": [
        {
          "output_type": "execute_result",
          "data": {
            "text/html": [
              "<div>\n",
              "<style scoped>\n",
              "    .dataframe tbody tr th:only-of-type {\n",
              "        vertical-align: middle;\n",
              "    }\n",
              "\n",
              "    .dataframe tbody tr th {\n",
              "        vertical-align: top;\n",
              "    }\n",
              "\n",
              "    .dataframe thead th {\n",
              "        text-align: right;\n",
              "    }\n",
              "</style>\n",
              "<table border=\"1\" class=\"dataframe\">\n",
              "  <thead>\n",
              "    <tr style=\"text-align: right;\">\n",
              "      <th></th>\n",
              "      <th>Uniq Id</th>\n",
              "      <th>Crawl Timestamp</th>\n",
              "      <th>Source</th>\n",
              "      <th>Layover1</th>\n",
              "      <th>Layover2</th>\n",
              "      <th>Layover3</th>\n",
              "      <th>Destination</th>\n",
              "      <th>Flight Operator</th>\n",
              "      <th>Flight Number</th>\n",
              "      <th>Departure Date</th>\n",
              "      <th>Departure Time</th>\n",
              "      <th>Arrival Date</th>\n",
              "      <th>Arrival Time</th>\n",
              "      <th>Total Time</th>\n",
              "      <th>Number Of Stops</th>\n",
              "      <th>Fare</th>\n",
              "      <th>Source Count</th>\n",
              "      <th>Source Encoded</th>\n",
              "      <th>Destination Encoded</th>\n",
              "    </tr>\n",
              "  </thead>\n",
              "  <tbody>\n",
              "    <tr>\n",
              "      <th>0</th>\n",
              "      <td>723b6dbcffbdfc2c29321c248cb14a9d</td>\n",
              "      <td>2020-02-01 00:46:15 +0000</td>\n",
              "      <td>Dubai</td>\n",
              "      <td>Muscat</td>\n",
              "      <td>Delhi</td>\n",
              "      <td>NaN</td>\n",
              "      <td>Kolkata</td>\n",
              "      <td>Oman Air|Oman Air|Air India</td>\n",
              "      <td>WY-612|WY-241|AI-764</td>\n",
              "      <td>06Feb2020</td>\n",
              "      <td>22:45</td>\n",
              "      <td>07Feb2020</td>\n",
              "      <td>19:10</td>\n",
              "      <td>18h 55m</td>\n",
              "      <td>2</td>\n",
              "      <td>26224.0</td>\n",
              "      <td>1099</td>\n",
              "      <td>1.0</td>\n",
              "      <td>16.0</td>\n",
              "    </tr>\n",
              "    <tr>\n",
              "      <th>1</th>\n",
              "      <td>75624e36d7e8ea7e40cc5c33e6c96c01</td>\n",
              "      <td>2020-01-13 13:29:00 +0000</td>\n",
              "      <td>Delhi</td>\n",
              "      <td>NaN</td>\n",
              "      <td>NaN</td>\n",
              "      <td>NaN</td>\n",
              "      <td>Patna</td>\n",
              "      <td>SpiceJet</td>\n",
              "      <td>SG-8480</td>\n",
              "      <td>01Feb2020</td>\n",
              "      <td>15:45</td>\n",
              "      <td>01Feb2020</td>\n",
              "      <td>17:25</td>\n",
              "      <td>01h 40m</td>\n",
              "      <td>0</td>\n",
              "      <td>2889.0</td>\n",
              "      <td>1151</td>\n",
              "      <td>2.0</td>\n",
              "      <td>0.0</td>\n",
              "    </tr>\n",
              "  </tbody>\n",
              "</table>\n",
              "</div>"
            ],
            "text/plain": [
              "                            Uniq Id  ... Destination Encoded\n",
              "0  723b6dbcffbdfc2c29321c248cb14a9d  ...                16.0\n",
              "1  75624e36d7e8ea7e40cc5c33e6c96c01  ...                 0.0\n",
              "\n",
              "[2 rows x 19 columns]"
            ]
          },
          "metadata": {
            "tags": []
          },
          "execution_count": 40
        }
      ]
    },
    {
      "cell_type": "code",
      "metadata": {
        "colab": {
          "base_uri": "https://localhost:8080/"
        },
        "id": "2R4BtjNMxzX0",
        "outputId": "99f507d3-788f-49fb-9416-00a8d3cfe604"
      },
      "source": [
        "flight_data[\"Fare\"].corr(flight_data[\"Number Of Stops\"])"
      ],
      "execution_count": null,
      "outputs": [
        {
          "output_type": "execute_result",
          "data": {
            "text/plain": [
              "0.1820248916928675"
            ]
          },
          "metadata": {
            "tags": []
          },
          "execution_count": 41
        }
      ]
    },
    {
      "cell_type": "code",
      "metadata": {
        "id": "yWrDQiNQyC5z"
      },
      "source": [
        "flight_data[\"S-D\"]=flight_data[\"Source Encoded\"]-flight_data[\"Destination Encoded\"].abs()"
      ],
      "execution_count": null,
      "outputs": []
    },
    {
      "cell_type": "code",
      "metadata": {
        "colab": {
          "base_uri": "https://localhost:8080/",
          "height": 351
        },
        "id": "xIJl4J1RymY3",
        "outputId": "7af51adc-9400-4b8b-9cf7-c212985e37ea"
      },
      "source": [
        "flight_data.head(3)"
      ],
      "execution_count": null,
      "outputs": [
        {
          "output_type": "execute_result",
          "data": {
            "text/html": [
              "<div>\n",
              "<style scoped>\n",
              "    .dataframe tbody tr th:only-of-type {\n",
              "        vertical-align: middle;\n",
              "    }\n",
              "\n",
              "    .dataframe tbody tr th {\n",
              "        vertical-align: top;\n",
              "    }\n",
              "\n",
              "    .dataframe thead th {\n",
              "        text-align: right;\n",
              "    }\n",
              "</style>\n",
              "<table border=\"1\" class=\"dataframe\">\n",
              "  <thead>\n",
              "    <tr style=\"text-align: right;\">\n",
              "      <th></th>\n",
              "      <th>Uniq Id</th>\n",
              "      <th>Crawl Timestamp</th>\n",
              "      <th>Source</th>\n",
              "      <th>Layover1</th>\n",
              "      <th>Layover2</th>\n",
              "      <th>Layover3</th>\n",
              "      <th>Destination</th>\n",
              "      <th>Flight Operator</th>\n",
              "      <th>Flight Number</th>\n",
              "      <th>Departure Date</th>\n",
              "      <th>Departure Time</th>\n",
              "      <th>Arrival Date</th>\n",
              "      <th>Arrival Time</th>\n",
              "      <th>Total Time</th>\n",
              "      <th>Number Of Stops</th>\n",
              "      <th>Fare</th>\n",
              "      <th>Source Count</th>\n",
              "      <th>Source Encoded</th>\n",
              "      <th>Destination Encoded</th>\n",
              "      <th>S-D</th>\n",
              "    </tr>\n",
              "  </thead>\n",
              "  <tbody>\n",
              "    <tr>\n",
              "      <th>0</th>\n",
              "      <td>723b6dbcffbdfc2c29321c248cb14a9d</td>\n",
              "      <td>2020-02-01 00:46:15 +0000</td>\n",
              "      <td>Dubai</td>\n",
              "      <td>Muscat</td>\n",
              "      <td>Delhi</td>\n",
              "      <td>NaN</td>\n",
              "      <td>Kolkata</td>\n",
              "      <td>Oman Air|Oman Air|Air India</td>\n",
              "      <td>WY-612|WY-241|AI-764</td>\n",
              "      <td>06Feb2020</td>\n",
              "      <td>22:45</td>\n",
              "      <td>07Feb2020</td>\n",
              "      <td>19:10</td>\n",
              "      <td>18h 55m</td>\n",
              "      <td>2</td>\n",
              "      <td>26224.0</td>\n",
              "      <td>1099</td>\n",
              "      <td>1.0</td>\n",
              "      <td>16.0</td>\n",
              "      <td>-15.0</td>\n",
              "    </tr>\n",
              "    <tr>\n",
              "      <th>1</th>\n",
              "      <td>75624e36d7e8ea7e40cc5c33e6c96c01</td>\n",
              "      <td>2020-01-13 13:29:00 +0000</td>\n",
              "      <td>Delhi</td>\n",
              "      <td>NaN</td>\n",
              "      <td>NaN</td>\n",
              "      <td>NaN</td>\n",
              "      <td>Patna</td>\n",
              "      <td>SpiceJet</td>\n",
              "      <td>SG-8480</td>\n",
              "      <td>01Feb2020</td>\n",
              "      <td>15:45</td>\n",
              "      <td>01Feb2020</td>\n",
              "      <td>17:25</td>\n",
              "      <td>01h 40m</td>\n",
              "      <td>0</td>\n",
              "      <td>2889.0</td>\n",
              "      <td>1151</td>\n",
              "      <td>2.0</td>\n",
              "      <td>0.0</td>\n",
              "      <td>2.0</td>\n",
              "    </tr>\n",
              "    <tr>\n",
              "      <th>2</th>\n",
              "      <td>0868155ae620dd8e7cd462e601b5f559</td>\n",
              "      <td>2020-01-01 00:35:50 +0000</td>\n",
              "      <td>Mumbai</td>\n",
              "      <td>Raipur</td>\n",
              "      <td>Kolkata</td>\n",
              "      <td>NaN</td>\n",
              "      <td>Silchar</td>\n",
              "      <td>Air India|Air India|Air India</td>\n",
              "      <td>AI-651|AI-9728|AI-753</td>\n",
              "      <td>23Jan2020</td>\n",
              "      <td>09:40</td>\n",
              "      <td>24Jan2020</td>\n",
              "      <td>07:00</td>\n",
              "      <td>21h 20m</td>\n",
              "      <td>2</td>\n",
              "      <td>13518.0</td>\n",
              "      <td>1919</td>\n",
              "      <td>3.0</td>\n",
              "      <td>0.0</td>\n",
              "      <td>3.0</td>\n",
              "    </tr>\n",
              "  </tbody>\n",
              "</table>\n",
              "</div>"
            ],
            "text/plain": [
              "                            Uniq Id  ...   S-D\n",
              "0  723b6dbcffbdfc2c29321c248cb14a9d  ... -15.0\n",
              "1  75624e36d7e8ea7e40cc5c33e6c96c01  ...   2.0\n",
              "2  0868155ae620dd8e7cd462e601b5f559  ...   3.0\n",
              "\n",
              "[3 rows x 20 columns]"
            ]
          },
          "metadata": {
            "tags": []
          },
          "execution_count": 43
        }
      ]
    },
    {
      "cell_type": "code",
      "metadata": {
        "colab": {
          "base_uri": "https://localhost:8080/"
        },
        "id": "Hv44HGpxyu0x",
        "outputId": "dad999e7-e94b-499d-dfb1-7cedc5d37ee2"
      },
      "source": [
        "flight_data[\"Fare\"].corr(flight_data[\"S-D\"])"
      ],
      "execution_count": null,
      "outputs": [
        {
          "output_type": "execute_result",
          "data": {
            "text/plain": [
              "0.038121543746311624"
            ]
          },
          "metadata": {
            "tags": []
          },
          "execution_count": 44
        }
      ]
    },
    {
      "cell_type": "code",
      "metadata": {
        "colab": {
          "base_uri": "https://localhost:8080/",
          "height": 269
        },
        "id": "gJuWR_Yty4rm",
        "outputId": "05a563f9-1a8a-443a-e411-ed4525b282df"
      },
      "source": [
        "flight_data.head(2)"
      ],
      "execution_count": null,
      "outputs": [
        {
          "output_type": "execute_result",
          "data": {
            "text/html": [
              "<div>\n",
              "<style scoped>\n",
              "    .dataframe tbody tr th:only-of-type {\n",
              "        vertical-align: middle;\n",
              "    }\n",
              "\n",
              "    .dataframe tbody tr th {\n",
              "        vertical-align: top;\n",
              "    }\n",
              "\n",
              "    .dataframe thead th {\n",
              "        text-align: right;\n",
              "    }\n",
              "</style>\n",
              "<table border=\"1\" class=\"dataframe\">\n",
              "  <thead>\n",
              "    <tr style=\"text-align: right;\">\n",
              "      <th></th>\n",
              "      <th>Uniq Id</th>\n",
              "      <th>Crawl Timestamp</th>\n",
              "      <th>Source</th>\n",
              "      <th>Layover1</th>\n",
              "      <th>Layover2</th>\n",
              "      <th>Layover3</th>\n",
              "      <th>Destination</th>\n",
              "      <th>Flight Operator</th>\n",
              "      <th>Flight Number</th>\n",
              "      <th>Departure Date</th>\n",
              "      <th>Departure Time</th>\n",
              "      <th>Arrival Date</th>\n",
              "      <th>Arrival Time</th>\n",
              "      <th>Total Time</th>\n",
              "      <th>Number Of Stops</th>\n",
              "      <th>Fare</th>\n",
              "      <th>Source Count</th>\n",
              "      <th>Source Encoded</th>\n",
              "      <th>Destination Encoded</th>\n",
              "      <th>S-D</th>\n",
              "    </tr>\n",
              "  </thead>\n",
              "  <tbody>\n",
              "    <tr>\n",
              "      <th>0</th>\n",
              "      <td>723b6dbcffbdfc2c29321c248cb14a9d</td>\n",
              "      <td>2020-02-01 00:46:15 +0000</td>\n",
              "      <td>Dubai</td>\n",
              "      <td>Muscat</td>\n",
              "      <td>Delhi</td>\n",
              "      <td>NaN</td>\n",
              "      <td>Kolkata</td>\n",
              "      <td>Oman Air|Oman Air|Air India</td>\n",
              "      <td>WY-612|WY-241|AI-764</td>\n",
              "      <td>06Feb2020</td>\n",
              "      <td>22:45</td>\n",
              "      <td>07Feb2020</td>\n",
              "      <td>19:10</td>\n",
              "      <td>18h 55m</td>\n",
              "      <td>2</td>\n",
              "      <td>26224.0</td>\n",
              "      <td>1099</td>\n",
              "      <td>1.0</td>\n",
              "      <td>16.0</td>\n",
              "      <td>-15.0</td>\n",
              "    </tr>\n",
              "    <tr>\n",
              "      <th>1</th>\n",
              "      <td>75624e36d7e8ea7e40cc5c33e6c96c01</td>\n",
              "      <td>2020-01-13 13:29:00 +0000</td>\n",
              "      <td>Delhi</td>\n",
              "      <td>NaN</td>\n",
              "      <td>NaN</td>\n",
              "      <td>NaN</td>\n",
              "      <td>Patna</td>\n",
              "      <td>SpiceJet</td>\n",
              "      <td>SG-8480</td>\n",
              "      <td>01Feb2020</td>\n",
              "      <td>15:45</td>\n",
              "      <td>01Feb2020</td>\n",
              "      <td>17:25</td>\n",
              "      <td>01h 40m</td>\n",
              "      <td>0</td>\n",
              "      <td>2889.0</td>\n",
              "      <td>1151</td>\n",
              "      <td>2.0</td>\n",
              "      <td>0.0</td>\n",
              "      <td>2.0</td>\n",
              "    </tr>\n",
              "  </tbody>\n",
              "</table>\n",
              "</div>"
            ],
            "text/plain": [
              "                            Uniq Id  ...   S-D\n",
              "0  723b6dbcffbdfc2c29321c248cb14a9d  ... -15.0\n",
              "1  75624e36d7e8ea7e40cc5c33e6c96c01  ...   2.0\n",
              "\n",
              "[2 rows x 20 columns]"
            ]
          },
          "metadata": {
            "tags": []
          },
          "execution_count": 45
        }
      ]
    },
    {
      "cell_type": "code",
      "metadata": {
        "id": "-t4K3br7y_ss"
      },
      "source": [
        "flight_data[\"Departure Date\"]=flight_data[\"Departure Date\"].astype(\"str\")\n",
        "flight_data[\"DepDay\"]=pd.to_datetime(flight_data[\"Departure Date\"]).dt.day\n",
        "flight_data[\"Arrival Date\"]=flight_data[\"Arrival Date\"].astype(\"str\")\n",
        "flight_data[\"ArrDay\"]=pd.to_datetime(flight_data[\"Arrival Date\"]).dt.day"
      ],
      "execution_count": null,
      "outputs": []
    },
    {
      "cell_type": "code",
      "metadata": {
        "colab": {
          "base_uri": "https://localhost:8080/",
          "height": 351
        },
        "id": "US0puF4u4qMt",
        "outputId": "80fbd594-a56f-4e35-fcd4-ef6f368a78f8"
      },
      "source": [
        "flight_data.head(3)"
      ],
      "execution_count": null,
      "outputs": [
        {
          "output_type": "execute_result",
          "data": {
            "text/html": [
              "<div>\n",
              "<style scoped>\n",
              "    .dataframe tbody tr th:only-of-type {\n",
              "        vertical-align: middle;\n",
              "    }\n",
              "\n",
              "    .dataframe tbody tr th {\n",
              "        vertical-align: top;\n",
              "    }\n",
              "\n",
              "    .dataframe thead th {\n",
              "        text-align: right;\n",
              "    }\n",
              "</style>\n",
              "<table border=\"1\" class=\"dataframe\">\n",
              "  <thead>\n",
              "    <tr style=\"text-align: right;\">\n",
              "      <th></th>\n",
              "      <th>Uniq Id</th>\n",
              "      <th>Crawl Timestamp</th>\n",
              "      <th>Source</th>\n",
              "      <th>Layover1</th>\n",
              "      <th>Layover2</th>\n",
              "      <th>Layover3</th>\n",
              "      <th>Destination</th>\n",
              "      <th>Flight Operator</th>\n",
              "      <th>Flight Number</th>\n",
              "      <th>Departure Date</th>\n",
              "      <th>Departure Time</th>\n",
              "      <th>Arrival Date</th>\n",
              "      <th>Arrival Time</th>\n",
              "      <th>Total Time</th>\n",
              "      <th>Number Of Stops</th>\n",
              "      <th>Fare</th>\n",
              "      <th>Source Count</th>\n",
              "      <th>Source Encoded</th>\n",
              "      <th>Destination Encoded</th>\n",
              "      <th>S-D</th>\n",
              "      <th>DepDay</th>\n",
              "      <th>ArrDay</th>\n",
              "    </tr>\n",
              "  </thead>\n",
              "  <tbody>\n",
              "    <tr>\n",
              "      <th>0</th>\n",
              "      <td>723b6dbcffbdfc2c29321c248cb14a9d</td>\n",
              "      <td>2020-02-01 00:46:15 +0000</td>\n",
              "      <td>Dubai</td>\n",
              "      <td>Muscat</td>\n",
              "      <td>Delhi</td>\n",
              "      <td>NaN</td>\n",
              "      <td>Kolkata</td>\n",
              "      <td>Oman Air|Oman Air|Air India</td>\n",
              "      <td>WY-612|WY-241|AI-764</td>\n",
              "      <td>06Feb2020</td>\n",
              "      <td>22:45</td>\n",
              "      <td>07Feb2020</td>\n",
              "      <td>19:10</td>\n",
              "      <td>18h 55m</td>\n",
              "      <td>2</td>\n",
              "      <td>26224.0</td>\n",
              "      <td>1099</td>\n",
              "      <td>1.0</td>\n",
              "      <td>16.0</td>\n",
              "      <td>-15.0</td>\n",
              "      <td>6</td>\n",
              "      <td>7</td>\n",
              "    </tr>\n",
              "    <tr>\n",
              "      <th>1</th>\n",
              "      <td>75624e36d7e8ea7e40cc5c33e6c96c01</td>\n",
              "      <td>2020-01-13 13:29:00 +0000</td>\n",
              "      <td>Delhi</td>\n",
              "      <td>NaN</td>\n",
              "      <td>NaN</td>\n",
              "      <td>NaN</td>\n",
              "      <td>Patna</td>\n",
              "      <td>SpiceJet</td>\n",
              "      <td>SG-8480</td>\n",
              "      <td>01Feb2020</td>\n",
              "      <td>15:45</td>\n",
              "      <td>01Feb2020</td>\n",
              "      <td>17:25</td>\n",
              "      <td>01h 40m</td>\n",
              "      <td>0</td>\n",
              "      <td>2889.0</td>\n",
              "      <td>1151</td>\n",
              "      <td>2.0</td>\n",
              "      <td>0.0</td>\n",
              "      <td>2.0</td>\n",
              "      <td>1</td>\n",
              "      <td>1</td>\n",
              "    </tr>\n",
              "    <tr>\n",
              "      <th>2</th>\n",
              "      <td>0868155ae620dd8e7cd462e601b5f559</td>\n",
              "      <td>2020-01-01 00:35:50 +0000</td>\n",
              "      <td>Mumbai</td>\n",
              "      <td>Raipur</td>\n",
              "      <td>Kolkata</td>\n",
              "      <td>NaN</td>\n",
              "      <td>Silchar</td>\n",
              "      <td>Air India|Air India|Air India</td>\n",
              "      <td>AI-651|AI-9728|AI-753</td>\n",
              "      <td>23Jan2020</td>\n",
              "      <td>09:40</td>\n",
              "      <td>24Jan2020</td>\n",
              "      <td>07:00</td>\n",
              "      <td>21h 20m</td>\n",
              "      <td>2</td>\n",
              "      <td>13518.0</td>\n",
              "      <td>1919</td>\n",
              "      <td>3.0</td>\n",
              "      <td>0.0</td>\n",
              "      <td>3.0</td>\n",
              "      <td>23</td>\n",
              "      <td>24</td>\n",
              "    </tr>\n",
              "  </tbody>\n",
              "</table>\n",
              "</div>"
            ],
            "text/plain": [
              "                            Uniq Id            Crawl Timestamp  ... DepDay ArrDay\n",
              "0  723b6dbcffbdfc2c29321c248cb14a9d  2020-02-01 00:46:15 +0000  ...      6      7\n",
              "1  75624e36d7e8ea7e40cc5c33e6c96c01  2020-01-13 13:29:00 +0000  ...      1      1\n",
              "2  0868155ae620dd8e7cd462e601b5f559  2020-01-01 00:35:50 +0000  ...     23     24\n",
              "\n",
              "[3 rows x 22 columns]"
            ]
          },
          "metadata": {
            "tags": []
          },
          "execution_count": 47
        }
      ]
    },
    {
      "cell_type": "code",
      "metadata": {
        "id": "EVsjpOhc4skn"
      },
      "source": [
        "\n",
        "flight_data[\"DepMonth\"]=pd.to_datetime(flight_data[\"Departure Date\"]).dt.month\n",
        "\n",
        "flight_data[\"ArrMonth\"]=pd.to_datetime(flight_data[\"Arrival Date\"]).dt.month"
      ],
      "execution_count": null,
      "outputs": []
    },
    {
      "cell_type": "code",
      "metadata": {
        "colab": {
          "base_uri": "https://localhost:8080/"
        },
        "id": "alk0xAIU6FSK",
        "outputId": "10c4082d-42a9-4091-808c-88723dbc964d"
      },
      "source": [
        "flight_data.DepMonth.value_counts()"
      ],
      "execution_count": null,
      "outputs": [
        {
          "output_type": "execute_result",
          "data": {
            "text/plain": [
              "1    15670\n",
              "2    14354\n",
              "Name: DepMonth, dtype: int64"
            ]
          },
          "metadata": {
            "tags": []
          },
          "execution_count": 49
        }
      ]
    },
    {
      "cell_type": "code",
      "metadata": {
        "id": "09Eh_ngl7goc"
      },
      "source": [
        "flight_data['Dep_Week_of_month'] = pd.to_datetime(flight_data['Departure Date']).apply(lambda d: (d.day-1) // 7 + 1)"
      ],
      "execution_count": null,
      "outputs": []
    },
    {
      "cell_type": "code",
      "metadata": {
        "id": "HdHWTMhy85Uk"
      },
      "source": [
        "flight_data['Arr_Week_of_month'] = pd.to_datetime(flight_data['Arrival Date']).apply(lambda d: (d.day-1) // 7 + 1)"
      ],
      "execution_count": null,
      "outputs": []
    },
    {
      "cell_type": "code",
      "metadata": {
        "id": "7qW0Lg_X5S4W"
      },
      "source": [
        "day_count=flight_data.groupby(\"DepDay\")[\"Uniq Id\"].agg({\"count\"})"
      ],
      "execution_count": null,
      "outputs": []
    },
    {
      "cell_type": "code",
      "metadata": {
        "colab": {
          "base_uri": "https://localhost:8080/",
          "height": 754
        },
        "id": "GlLuPyyj58CX",
        "outputId": "c28e0aaa-f0e8-4832-ba4b-da9f9504e110"
      },
      "source": [
        "day_count"
      ],
      "execution_count": null,
      "outputs": [
        {
          "output_type": "execute_result",
          "data": {
            "text/html": [
              "<div>\n",
              "<style scoped>\n",
              "    .dataframe tbody tr th:only-of-type {\n",
              "        vertical-align: middle;\n",
              "    }\n",
              "\n",
              "    .dataframe tbody tr th {\n",
              "        vertical-align: top;\n",
              "    }\n",
              "\n",
              "    .dataframe thead th {\n",
              "        text-align: right;\n",
              "    }\n",
              "</style>\n",
              "<table border=\"1\" class=\"dataframe\">\n",
              "  <thead>\n",
              "    <tr style=\"text-align: right;\">\n",
              "      <th></th>\n",
              "      <th>count</th>\n",
              "    </tr>\n",
              "    <tr>\n",
              "      <th>DepDay</th>\n",
              "      <th></th>\n",
              "    </tr>\n",
              "  </thead>\n",
              "  <tbody>\n",
              "    <tr>\n",
              "      <th>1</th>\n",
              "      <td>1363</td>\n",
              "    </tr>\n",
              "    <tr>\n",
              "      <th>2</th>\n",
              "      <td>867</td>\n",
              "    </tr>\n",
              "    <tr>\n",
              "      <th>3</th>\n",
              "      <td>1527</td>\n",
              "    </tr>\n",
              "    <tr>\n",
              "      <th>4</th>\n",
              "      <td>815</td>\n",
              "    </tr>\n",
              "    <tr>\n",
              "      <th>6</th>\n",
              "      <td>2451</td>\n",
              "    </tr>\n",
              "    <tr>\n",
              "      <th>8</th>\n",
              "      <td>1552</td>\n",
              "    </tr>\n",
              "    <tr>\n",
              "      <th>9</th>\n",
              "      <td>874</td>\n",
              "    </tr>\n",
              "    <tr>\n",
              "      <th>10</th>\n",
              "      <td>1623</td>\n",
              "    </tr>\n",
              "    <tr>\n",
              "      <th>11</th>\n",
              "      <td>824</td>\n",
              "    </tr>\n",
              "    <tr>\n",
              "      <th>13</th>\n",
              "      <td>1744</td>\n",
              "    </tr>\n",
              "    <tr>\n",
              "      <th>15</th>\n",
              "      <td>820</td>\n",
              "    </tr>\n",
              "    <tr>\n",
              "      <th>16</th>\n",
              "      <td>1646</td>\n",
              "    </tr>\n",
              "    <tr>\n",
              "      <th>17</th>\n",
              "      <td>843</td>\n",
              "    </tr>\n",
              "    <tr>\n",
              "      <th>18</th>\n",
              "      <td>1591</td>\n",
              "    </tr>\n",
              "    <tr>\n",
              "      <th>20</th>\n",
              "      <td>2462</td>\n",
              "    </tr>\n",
              "    <tr>\n",
              "      <th>22</th>\n",
              "      <td>853</td>\n",
              "    </tr>\n",
              "    <tr>\n",
              "      <th>23</th>\n",
              "      <td>1648</td>\n",
              "    </tr>\n",
              "    <tr>\n",
              "      <th>24</th>\n",
              "      <td>841</td>\n",
              "    </tr>\n",
              "    <tr>\n",
              "      <th>25</th>\n",
              "      <td>1582</td>\n",
              "    </tr>\n",
              "    <tr>\n",
              "      <th>27</th>\n",
              "      <td>2521</td>\n",
              "    </tr>\n",
              "    <tr>\n",
              "      <th>29</th>\n",
              "      <td>811</td>\n",
              "    </tr>\n",
              "    <tr>\n",
              "      <th>30</th>\n",
              "      <td>766</td>\n",
              "    </tr>\n",
              "  </tbody>\n",
              "</table>\n",
              "</div>"
            ],
            "text/plain": [
              "        count\n",
              "DepDay       \n",
              "1        1363\n",
              "2         867\n",
              "3        1527\n",
              "4         815\n",
              "6        2451\n",
              "8        1552\n",
              "9         874\n",
              "10       1623\n",
              "11        824\n",
              "13       1744\n",
              "15        820\n",
              "16       1646\n",
              "17        843\n",
              "18       1591\n",
              "20       2462\n",
              "22        853\n",
              "23       1648\n",
              "24        841\n",
              "25       1582\n",
              "27       2521\n",
              "29        811\n",
              "30        766"
            ]
          },
          "metadata": {
            "tags": []
          },
          "execution_count": 54
        }
      ]
    },
    {
      "cell_type": "code",
      "metadata": {
        "colab": {
          "base_uri": "https://localhost:8080/",
          "height": 466
        },
        "id": "QpclRuy75F9v",
        "outputId": "b095de18-7a9d-45f4-8cfb-4516250e4307"
      },
      "source": [
        "plt.figure(figsize=(16,8))\n",
        "\n",
        "sns.lineplot(data=day_count, x=\"DepDay\",y=\"count\",color='blue' )"
      ],
      "execution_count": null,
      "outputs": [
        {
          "output_type": "execute_result",
          "data": {
            "text/plain": [
              "<matplotlib.axes._subplots.AxesSubplot at 0x7f51faa3e890>"
            ]
          },
          "metadata": {
            "tags": []
          },
          "execution_count": 55
        },
        {
          "output_type": "display_data",
          "data": {
            "image/png": "[encoded data removed]",
            "text/plain": [
              "<Figure size 1152x576 with 1 Axes>"
            ]
          },
          "metadata": {
            "tags": [],
            "needs_background": "light"
          }
        }
      ]
    },
    {
      "cell_type": "code",
      "metadata": {
        "colab": {
          "base_uri": "https://localhost:8080/"
        },
        "id": "6ZqPELc351np",
        "outputId": "90d7c8aa-5be6-4650-e404-712caf3daf3d"
      },
      "source": [
        "flight_data[\"Fare\"].corr(flight_data[\"DepDay\"])"
      ],
      "execution_count": null,
      "outputs": [
        {
          "output_type": "execute_result",
          "data": {
            "text/plain": [
              "-0.044080046032900416"
            ]
          },
          "metadata": {
            "tags": []
          },
          "execution_count": 56
        }
      ]
    },
    {
      "cell_type": "code",
      "metadata": {
        "id": "Wvn1OEk-OkR9"
      },
      "source": [
        "week_count=flight_data.groupby(\"Dep_Week_of_month\")[\"Uniq Id\"].agg({\"count\"})"
      ],
      "execution_count": null,
      "outputs": []
    },
    {
      "cell_type": "code",
      "metadata": {
        "colab": {
          "base_uri": "https://localhost:8080/",
          "height": 467
        },
        "id": "rtQ7I9HrOfTS",
        "outputId": "84f4b3de-08de-4263-f2a4-7e299cc706a2"
      },
      "source": [
        "plt.figure(figsize=(16,8))\n",
        "\n",
        "sns.lineplot(data=week_count, x=\"Dep_Week_of_month\",y=\"count\",color='blue' )"
      ],
      "execution_count": null,
      "outputs": [
        {
          "output_type": "execute_result",
          "data": {
            "text/plain": [
              "<matplotlib.axes._subplots.AxesSubplot at 0x7f51fa8b97d0>"
            ]
          },
          "metadata": {
            "tags": []
          },
          "execution_count": 58
        },
        {
          "output_type": "display_data",
          "data": {
            "image/png": "[encoded data removed]",
            "text/plain": [
              "<Figure size 1152x576 with 1 Axes>"
            ]
          },
          "metadata": {
            "tags": [],
            "needs_background": "light"
          }
        }
      ]
    },
    {
      "cell_type": "code",
      "metadata": {
        "colab": {
          "base_uri": "https://localhost:8080/",
          "height": 351
        },
        "id": "SKA_zgB5PD5q",
        "outputId": "48170f78-dea9-4dde-e819-4cface3cdbb1"
      },
      "source": [
        "flight_data.head(3)"
      ],
      "execution_count": null,
      "outputs": [
        {
          "output_type": "execute_result",
          "data": {
            "text/html": [
              "<div>\n",
              "<style scoped>\n",
              "    .dataframe tbody tr th:only-of-type {\n",
              "        vertical-align: middle;\n",
              "    }\n",
              "\n",
              "    .dataframe tbody tr th {\n",
              "        vertical-align: top;\n",
              "    }\n",
              "\n",
              "    .dataframe thead th {\n",
              "        text-align: right;\n",
              "    }\n",
              "</style>\n",
              "<table border=\"1\" class=\"dataframe\">\n",
              "  <thead>\n",
              "    <tr style=\"text-align: right;\">\n",
              "      <th></th>\n",
              "      <th>Uniq Id</th>\n",
              "      <th>Crawl Timestamp</th>\n",
              "      <th>Source</th>\n",
              "      <th>Layover1</th>\n",
              "      <th>Layover2</th>\n",
              "      <th>Layover3</th>\n",
              "      <th>Destination</th>\n",
              "      <th>Flight Operator</th>\n",
              "      <th>Flight Number</th>\n",
              "      <th>Departure Date</th>\n",
              "      <th>Departure Time</th>\n",
              "      <th>Arrival Date</th>\n",
              "      <th>Arrival Time</th>\n",
              "      <th>Total Time</th>\n",
              "      <th>Number Of Stops</th>\n",
              "      <th>Fare</th>\n",
              "      <th>Source Count</th>\n",
              "      <th>Source Encoded</th>\n",
              "      <th>Destination Encoded</th>\n",
              "      <th>S-D</th>\n",
              "      <th>DepDay</th>\n",
              "      <th>ArrDay</th>\n",
              "      <th>DepMonth</th>\n",
              "      <th>ArrMonth</th>\n",
              "      <th>Dep_Week_of_month</th>\n",
              "      <th>Arr_Week_of_month</th>\n",
              "    </tr>\n",
              "  </thead>\n",
              "  <tbody>\n",
              "    <tr>\n",
              "      <th>0</th>\n",
              "      <td>723b6dbcffbdfc2c29321c248cb14a9d</td>\n",
              "      <td>2020-02-01 00:46:15 +0000</td>\n",
              "      <td>Dubai</td>\n",
              "      <td>Muscat</td>\n",
              "      <td>Delhi</td>\n",
              "      <td>NaN</td>\n",
              "      <td>Kolkata</td>\n",
              "      <td>Oman Air|Oman Air|Air India</td>\n",
              "      <td>WY-612|WY-241|AI-764</td>\n",
              "      <td>06Feb2020</td>\n",
              "      <td>22:45</td>\n",
              "      <td>07Feb2020</td>\n",
              "      <td>19:10</td>\n",
              "      <td>18h 55m</td>\n",
              "      <td>2</td>\n",
              "      <td>26224.0</td>\n",
              "      <td>1099</td>\n",
              "      <td>1.0</td>\n",
              "      <td>16.0</td>\n",
              "      <td>-15.0</td>\n",
              "      <td>6</td>\n",
              "      <td>7</td>\n",
              "      <td>2</td>\n",
              "      <td>2</td>\n",
              "      <td>1</td>\n",
              "      <td>1</td>\n",
              "    </tr>\n",
              "    <tr>\n",
              "      <th>1</th>\n",
              "      <td>75624e36d7e8ea7e40cc5c33e6c96c01</td>\n",
              "      <td>2020-01-13 13:29:00 +0000</td>\n",
              "      <td>Delhi</td>\n",
              "      <td>NaN</td>\n",
              "      <td>NaN</td>\n",
              "      <td>NaN</td>\n",
              "      <td>Patna</td>\n",
              "      <td>SpiceJet</td>\n",
              "      <td>SG-8480</td>\n",
              "      <td>01Feb2020</td>\n",
              "      <td>15:45</td>\n",
              "      <td>01Feb2020</td>\n",
              "      <td>17:25</td>\n",
              "      <td>01h 40m</td>\n",
              "      <td>0</td>\n",
              "      <td>2889.0</td>\n",
              "      <td>1151</td>\n",
              "      <td>2.0</td>\n",
              "      <td>0.0</td>\n",
              "      <td>2.0</td>\n",
              "      <td>1</td>\n",
              "      <td>1</td>\n",
              "      <td>2</td>\n",
              "      <td>2</td>\n",
              "      <td>1</td>\n",
              "      <td>1</td>\n",
              "    </tr>\n",
              "    <tr>\n",
              "      <th>2</th>\n",
              "      <td>0868155ae620dd8e7cd462e601b5f559</td>\n",
              "      <td>2020-01-01 00:35:50 +0000</td>\n",
              "      <td>Mumbai</td>\n",
              "      <td>Raipur</td>\n",
              "      <td>Kolkata</td>\n",
              "      <td>NaN</td>\n",
              "      <td>Silchar</td>\n",
              "      <td>Air India|Air India|Air India</td>\n",
              "      <td>AI-651|AI-9728|AI-753</td>\n",
              "      <td>23Jan2020</td>\n",
              "      <td>09:40</td>\n",
              "      <td>24Jan2020</td>\n",
              "      <td>07:00</td>\n",
              "      <td>21h 20m</td>\n",
              "      <td>2</td>\n",
              "      <td>13518.0</td>\n",
              "      <td>1919</td>\n",
              "      <td>3.0</td>\n",
              "      <td>0.0</td>\n",
              "      <td>3.0</td>\n",
              "      <td>23</td>\n",
              "      <td>24</td>\n",
              "      <td>1</td>\n",
              "      <td>1</td>\n",
              "      <td>4</td>\n",
              "      <td>4</td>\n",
              "    </tr>\n",
              "  </tbody>\n",
              "</table>\n",
              "</div>"
            ],
            "text/plain": [
              "                            Uniq Id  ... Arr_Week_of_month\n",
              "0  723b6dbcffbdfc2c29321c248cb14a9d  ...                 1\n",
              "1  75624e36d7e8ea7e40cc5c33e6c96c01  ...                 1\n",
              "2  0868155ae620dd8e7cd462e601b5f559  ...                 4\n",
              "\n",
              "[3 rows x 26 columns]"
            ]
          },
          "metadata": {
            "tags": []
          },
          "execution_count": 59
        }
      ]
    },
    {
      "cell_type": "code",
      "metadata": {
        "id": "gYpasg9XQqyZ"
      },
      "source": [
        "def timeCon(t):\n",
        "  h=int (t.split(sep=\"h\")[0])*60\n",
        "  m=int (t.split(sep=\"m\")[0].split(sep =\"h\")[1])\n",
        "\n",
        "  return h+m;\n",
        "\n",
        "# print(timeCon(\"02h02m\"))"
      ],
      "execution_count": null,
      "outputs": []
    },
    {
      "cell_type": "code",
      "metadata": {
        "colab": {
          "base_uri": "https://localhost:8080/",
          "height": 351
        },
        "id": "xG1zKUEdPGpE",
        "outputId": "65932048-4c8e-445b-f90a-f07a948fce06"
      },
      "source": [
        "flight_data[\"Total Time\"]=flight_data[\"Total Time\"].astype(\"str\")\n",
        "flight_data[\"Total Time Norm\"]=flight_data[\"Total Time\"].map(timeCon)\n",
        "flight_data.head(3)"
      ],
      "execution_count": null,
      "outputs": [
        {
          "output_type": "execute_result",
          "data": {
            "text/html": [
              "<div>\n",
              "<style scoped>\n",
              "    .dataframe tbody tr th:only-of-type {\n",
              "        vertical-align: middle;\n",
              "    }\n",
              "\n",
              "    .dataframe tbody tr th {\n",
              "        vertical-align: top;\n",
              "    }\n",
              "\n",
              "    .dataframe thead th {\n",
              "        text-align: right;\n",
              "    }\n",
              "</style>\n",
              "<table border=\"1\" class=\"dataframe\">\n",
              "  <thead>\n",
              "    <tr style=\"text-align: right;\">\n",
              "      <th></th>\n",
              "      <th>Uniq Id</th>\n",
              "      <th>Crawl Timestamp</th>\n",
              "      <th>Source</th>\n",
              "      <th>Layover1</th>\n",
              "      <th>Layover2</th>\n",
              "      <th>Layover3</th>\n",
              "      <th>Destination</th>\n",
              "      <th>Flight Operator</th>\n",
              "      <th>Flight Number</th>\n",
              "      <th>Departure Date</th>\n",
              "      <th>Departure Time</th>\n",
              "      <th>Arrival Date</th>\n",
              "      <th>Arrival Time</th>\n",
              "      <th>Total Time</th>\n",
              "      <th>Number Of Stops</th>\n",
              "      <th>Fare</th>\n",
              "      <th>Source Count</th>\n",
              "      <th>Source Encoded</th>\n",
              "      <th>Destination Encoded</th>\n",
              "      <th>S-D</th>\n",
              "      <th>DepDay</th>\n",
              "      <th>ArrDay</th>\n",
              "      <th>DepMonth</th>\n",
              "      <th>ArrMonth</th>\n",
              "      <th>Dep_Week_of_month</th>\n",
              "      <th>Arr_Week_of_month</th>\n",
              "      <th>Total Time Norm</th>\n",
              "    </tr>\n",
              "  </thead>\n",
              "  <tbody>\n",
              "    <tr>\n",
              "      <th>0</th>\n",
              "      <td>723b6dbcffbdfc2c29321c248cb14a9d</td>\n",
              "      <td>2020-02-01 00:46:15 +0000</td>\n",
              "      <td>Dubai</td>\n",
              "      <td>Muscat</td>\n",
              "      <td>Delhi</td>\n",
              "      <td>NaN</td>\n",
              "      <td>Kolkata</td>\n",
              "      <td>Oman Air|Oman Air|Air India</td>\n",
              "      <td>WY-612|WY-241|AI-764</td>\n",
              "      <td>06Feb2020</td>\n",
              "      <td>22:45</td>\n",
              "      <td>07Feb2020</td>\n",
              "      <td>19:10</td>\n",
              "      <td>18h 55m</td>\n",
              "      <td>2</td>\n",
              "      <td>26224.0</td>\n",
              "      <td>1099</td>\n",
              "      <td>1.0</td>\n",
              "      <td>16.0</td>\n",
              "      <td>-15.0</td>\n",
              "      <td>6</td>\n",
              "      <td>7</td>\n",
              "      <td>2</td>\n",
              "      <td>2</td>\n",
              "      <td>1</td>\n",
              "      <td>1</td>\n",
              "      <td>1135</td>\n",
              "    </tr>\n",
              "    <tr>\n",
              "      <th>1</th>\n",
              "      <td>75624e36d7e8ea7e40cc5c33e6c96c01</td>\n",
              "      <td>2020-01-13 13:29:00 +0000</td>\n",
              "      <td>Delhi</td>\n",
              "      <td>NaN</td>\n",
              "      <td>NaN</td>\n",
              "      <td>NaN</td>\n",
              "      <td>Patna</td>\n",
              "      <td>SpiceJet</td>\n",
              "      <td>SG-8480</td>\n",
              "      <td>01Feb2020</td>\n",
              "      <td>15:45</td>\n",
              "      <td>01Feb2020</td>\n",
              "      <td>17:25</td>\n",
              "      <td>01h 40m</td>\n",
              "      <td>0</td>\n",
              "      <td>2889.0</td>\n",
              "      <td>1151</td>\n",
              "      <td>2.0</td>\n",
              "      <td>0.0</td>\n",
              "      <td>2.0</td>\n",
              "      <td>1</td>\n",
              "      <td>1</td>\n",
              "      <td>2</td>\n",
              "      <td>2</td>\n",
              "      <td>1</td>\n",
              "      <td>1</td>\n",
              "      <td>100</td>\n",
              "    </tr>\n",
              "    <tr>\n",
              "      <th>2</th>\n",
              "      <td>0868155ae620dd8e7cd462e601b5f559</td>\n",
              "      <td>2020-01-01 00:35:50 +0000</td>\n",
              "      <td>Mumbai</td>\n",
              "      <td>Raipur</td>\n",
              "      <td>Kolkata</td>\n",
              "      <td>NaN</td>\n",
              "      <td>Silchar</td>\n",
              "      <td>Air India|Air India|Air India</td>\n",
              "      <td>AI-651|AI-9728|AI-753</td>\n",
              "      <td>23Jan2020</td>\n",
              "      <td>09:40</td>\n",
              "      <td>24Jan2020</td>\n",
              "      <td>07:00</td>\n",
              "      <td>21h 20m</td>\n",
              "      <td>2</td>\n",
              "      <td>13518.0</td>\n",
              "      <td>1919</td>\n",
              "      <td>3.0</td>\n",
              "      <td>0.0</td>\n",
              "      <td>3.0</td>\n",
              "      <td>23</td>\n",
              "      <td>24</td>\n",
              "      <td>1</td>\n",
              "      <td>1</td>\n",
              "      <td>4</td>\n",
              "      <td>4</td>\n",
              "      <td>1280</td>\n",
              "    </tr>\n",
              "  </tbody>\n",
              "</table>\n",
              "</div>"
            ],
            "text/plain": [
              "                            Uniq Id  ... Total Time Norm\n",
              "0  723b6dbcffbdfc2c29321c248cb14a9d  ...            1135\n",
              "1  75624e36d7e8ea7e40cc5c33e6c96c01  ...             100\n",
              "2  0868155ae620dd8e7cd462e601b5f559  ...            1280\n",
              "\n",
              "[3 rows x 27 columns]"
            ]
          },
          "metadata": {
            "tags": []
          },
          "execution_count": 61
        }
      ]
    },
    {
      "cell_type": "code",
      "metadata": {
        "colab": {
          "base_uri": "https://localhost:8080/"
        },
        "id": "EAEb8RsVUpAw",
        "outputId": "776e4f60-209d-43fd-d9a3-28ad7ef2917b"
      },
      "source": [
        "flight_data[\"Fare\"].corr(flight_data[\"Total Time Norm\"])"
      ],
      "execution_count": null,
      "outputs": [
        {
          "output_type": "execute_result",
          "data": {
            "text/plain": [
              "0.34838963018815255"
            ]
          },
          "metadata": {
            "tags": []
          },
          "execution_count": 62
        }
      ]
    },
    {
      "cell_type": "code",
      "metadata": {
        "id": "Wmh96o_zU02b"
      },
      "source": [
        "def timeSlot(t):\n",
        "  h=int (t.split(sep=\":\")[0])\n",
        "  if (h>=0 and h<6): \n",
        "    return 1\n",
        "  elif (h>=6 and h<12): \n",
        "    return 2\n",
        "  elif (h>=12 and h<18):\n",
        "     return 3\n",
        "  elif (h>=18):\n",
        "     return 4\n",
        "  else:\n",
        "     return 0\n",
        "\n",
        "#print(timeSlot(\"22:45\"))"
      ],
      "execution_count": null,
      "outputs": []
    },
    {
      "cell_type": "code",
      "metadata": {
        "id": "pUEuqGHjWU7c"
      },
      "source": [
        "flight_data[\"Departure Time\"]=flight_data[\"Departure Time\"].astype(\"str\")\n",
        "flight_data[\"DepSlot\"]=flight_data[\"Departure Time\"].map(timeSlot)"
      ],
      "execution_count": null,
      "outputs": []
    },
    {
      "cell_type": "code",
      "metadata": {
        "colab": {
          "base_uri": "https://localhost:8080/",
          "height": 269
        },
        "id": "_iNAEOI8Wq3m",
        "outputId": "0b57d1c9-4a4e-450b-97de-6c9206a1a381"
      },
      "source": [
        "flight_data.head(2)"
      ],
      "execution_count": null,
      "outputs": [
        {
          "output_type": "execute_result",
          "data": {
            "text/html": [
              "<div>\n",
              "<style scoped>\n",
              "    .dataframe tbody tr th:only-of-type {\n",
              "        vertical-align: middle;\n",
              "    }\n",
              "\n",
              "    .dataframe tbody tr th {\n",
              "        vertical-align: top;\n",
              "    }\n",
              "\n",
              "    .dataframe thead th {\n",
              "        text-align: right;\n",
              "    }\n",
              "</style>\n",
              "<table border=\"1\" class=\"dataframe\">\n",
              "  <thead>\n",
              "    <tr style=\"text-align: right;\">\n",
              "      <th></th>\n",
              "      <th>Uniq Id</th>\n",
              "      <th>Crawl Timestamp</th>\n",
              "      <th>Source</th>\n",
              "      <th>Layover1</th>\n",
              "      <th>Layover2</th>\n",
              "      <th>Layover3</th>\n",
              "      <th>Destination</th>\n",
              "      <th>Flight Operator</th>\n",
              "      <th>Flight Number</th>\n",
              "      <th>Departure Date</th>\n",
              "      <th>Departure Time</th>\n",
              "      <th>Arrival Date</th>\n",
              "      <th>Arrival Time</th>\n",
              "      <th>Total Time</th>\n",
              "      <th>Number Of Stops</th>\n",
              "      <th>Fare</th>\n",
              "      <th>Source Count</th>\n",
              "      <th>Source Encoded</th>\n",
              "      <th>Destination Encoded</th>\n",
              "      <th>S-D</th>\n",
              "      <th>DepDay</th>\n",
              "      <th>ArrDay</th>\n",
              "      <th>DepMonth</th>\n",
              "      <th>ArrMonth</th>\n",
              "      <th>Dep_Week_of_month</th>\n",
              "      <th>Arr_Week_of_month</th>\n",
              "      <th>Total Time Norm</th>\n",
              "      <th>DepSlot</th>\n",
              "    </tr>\n",
              "  </thead>\n",
              "  <tbody>\n",
              "    <tr>\n",
              "      <th>0</th>\n",
              "      <td>723b6dbcffbdfc2c29321c248cb14a9d</td>\n",
              "      <td>2020-02-01 00:46:15 +0000</td>\n",
              "      <td>Dubai</td>\n",
              "      <td>Muscat</td>\n",
              "      <td>Delhi</td>\n",
              "      <td>NaN</td>\n",
              "      <td>Kolkata</td>\n",
              "      <td>Oman Air|Oman Air|Air India</td>\n",
              "      <td>WY-612|WY-241|AI-764</td>\n",
              "      <td>06Feb2020</td>\n",
              "      <td>22:45</td>\n",
              "      <td>07Feb2020</td>\n",
              "      <td>19:10</td>\n",
              "      <td>18h 55m</td>\n",
              "      <td>2</td>\n",
              "      <td>26224.0</td>\n",
              "      <td>1099</td>\n",
              "      <td>1.0</td>\n",
              "      <td>16.0</td>\n",
              "      <td>-15.0</td>\n",
              "      <td>6</td>\n",
              "      <td>7</td>\n",
              "      <td>2</td>\n",
              "      <td>2</td>\n",
              "      <td>1</td>\n",
              "      <td>1</td>\n",
              "      <td>1135</td>\n",
              "      <td>4</td>\n",
              "    </tr>\n",
              "    <tr>\n",
              "      <th>1</th>\n",
              "      <td>75624e36d7e8ea7e40cc5c33e6c96c01</td>\n",
              "      <td>2020-01-13 13:29:00 +0000</td>\n",
              "      <td>Delhi</td>\n",
              "      <td>NaN</td>\n",
              "      <td>NaN</td>\n",
              "      <td>NaN</td>\n",
              "      <td>Patna</td>\n",
              "      <td>SpiceJet</td>\n",
              "      <td>SG-8480</td>\n",
              "      <td>01Feb2020</td>\n",
              "      <td>15:45</td>\n",
              "      <td>01Feb2020</td>\n",
              "      <td>17:25</td>\n",
              "      <td>01h 40m</td>\n",
              "      <td>0</td>\n",
              "      <td>2889.0</td>\n",
              "      <td>1151</td>\n",
              "      <td>2.0</td>\n",
              "      <td>0.0</td>\n",
              "      <td>2.0</td>\n",
              "      <td>1</td>\n",
              "      <td>1</td>\n",
              "      <td>2</td>\n",
              "      <td>2</td>\n",
              "      <td>1</td>\n",
              "      <td>1</td>\n",
              "      <td>100</td>\n",
              "      <td>3</td>\n",
              "    </tr>\n",
              "  </tbody>\n",
              "</table>\n",
              "</div>"
            ],
            "text/plain": [
              "                            Uniq Id  ... DepSlot\n",
              "0  723b6dbcffbdfc2c29321c248cb14a9d  ...       4\n",
              "1  75624e36d7e8ea7e40cc5c33e6c96c01  ...       3\n",
              "\n",
              "[2 rows x 28 columns]"
            ]
          },
          "metadata": {
            "tags": []
          },
          "execution_count": 65
        }
      ]
    },
    {
      "cell_type": "code",
      "metadata": {
        "id": "FuSrFvuPWznN"
      },
      "source": [
        "def OperatorGetter(op):\n",
        "  y=op.split(sep=\"|\")[0]\n",
        "  return y\n",
        "\n",
        "#print(OperatorGetter(\"SpiceJet\"))"
      ],
      "execution_count": null,
      "outputs": []
    },
    {
      "cell_type": "code",
      "metadata": {
        "colab": {
          "base_uri": "https://localhost:8080/",
          "height": 269
        },
        "id": "T0_8vr-DX_xK",
        "outputId": "cbd43787-cca3-4cdf-cabd-f95e380d6ae3"
      },
      "source": [
        "flight_data[\"Modified Flight Operator\"]=flight_data[\"Flight Operator\"].map(OperatorGetter)\n",
        "flight_data.head(2)"
      ],
      "execution_count": null,
      "outputs": [
        {
          "output_type": "execute_result",
          "data": {
            "text/html": [
              "<div>\n",
              "<style scoped>\n",
              "    .dataframe tbody tr th:only-of-type {\n",
              "        vertical-align: middle;\n",
              "    }\n",
              "\n",
              "    .dataframe tbody tr th {\n",
              "        vertical-align: top;\n",
              "    }\n",
              "\n",
              "    .dataframe thead th {\n",
              "        text-align: right;\n",
              "    }\n",
              "</style>\n",
              "<table border=\"1\" class=\"dataframe\">\n",
              "  <thead>\n",
              "    <tr style=\"text-align: right;\">\n",
              "      <th></th>\n",
              "      <th>Uniq Id</th>\n",
              "      <th>Crawl Timestamp</th>\n",
              "      <th>Source</th>\n",
              "      <th>Layover1</th>\n",
              "      <th>Layover2</th>\n",
              "      <th>Layover3</th>\n",
              "      <th>Destination</th>\n",
              "      <th>Flight Operator</th>\n",
              "      <th>Flight Number</th>\n",
              "      <th>Departure Date</th>\n",
              "      <th>Departure Time</th>\n",
              "      <th>Arrival Date</th>\n",
              "      <th>Arrival Time</th>\n",
              "      <th>Total Time</th>\n",
              "      <th>Number Of Stops</th>\n",
              "      <th>Fare</th>\n",
              "      <th>Source Count</th>\n",
              "      <th>Source Encoded</th>\n",
              "      <th>Destination Encoded</th>\n",
              "      <th>S-D</th>\n",
              "      <th>DepDay</th>\n",
              "      <th>ArrDay</th>\n",
              "      <th>DepMonth</th>\n",
              "      <th>ArrMonth</th>\n",
              "      <th>Dep_Week_of_month</th>\n",
              "      <th>Arr_Week_of_month</th>\n",
              "      <th>Total Time Norm</th>\n",
              "      <th>DepSlot</th>\n",
              "      <th>Modified Flight Operator</th>\n",
              "    </tr>\n",
              "  </thead>\n",
              "  <tbody>\n",
              "    <tr>\n",
              "      <th>0</th>\n",
              "      <td>723b6dbcffbdfc2c29321c248cb14a9d</td>\n",
              "      <td>2020-02-01 00:46:15 +0000</td>\n",
              "      <td>Dubai</td>\n",
              "      <td>Muscat</td>\n",
              "      <td>Delhi</td>\n",
              "      <td>NaN</td>\n",
              "      <td>Kolkata</td>\n",
              "      <td>Oman Air|Oman Air|Air India</td>\n",
              "      <td>WY-612|WY-241|AI-764</td>\n",
              "      <td>06Feb2020</td>\n",
              "      <td>22:45</td>\n",
              "      <td>07Feb2020</td>\n",
              "      <td>19:10</td>\n",
              "      <td>18h 55m</td>\n",
              "      <td>2</td>\n",
              "      <td>26224.0</td>\n",
              "      <td>1099</td>\n",
              "      <td>1.0</td>\n",
              "      <td>16.0</td>\n",
              "      <td>-15.0</td>\n",
              "      <td>6</td>\n",
              "      <td>7</td>\n",
              "      <td>2</td>\n",
              "      <td>2</td>\n",
              "      <td>1</td>\n",
              "      <td>1</td>\n",
              "      <td>1135</td>\n",
              "      <td>4</td>\n",
              "      <td>Oman Air</td>\n",
              "    </tr>\n",
              "    <tr>\n",
              "      <th>1</th>\n",
              "      <td>75624e36d7e8ea7e40cc5c33e6c96c01</td>\n",
              "      <td>2020-01-13 13:29:00 +0000</td>\n",
              "      <td>Delhi</td>\n",
              "      <td>NaN</td>\n",
              "      <td>NaN</td>\n",
              "      <td>NaN</td>\n",
              "      <td>Patna</td>\n",
              "      <td>SpiceJet</td>\n",
              "      <td>SG-8480</td>\n",
              "      <td>01Feb2020</td>\n",
              "      <td>15:45</td>\n",
              "      <td>01Feb2020</td>\n",
              "      <td>17:25</td>\n",
              "      <td>01h 40m</td>\n",
              "      <td>0</td>\n",
              "      <td>2889.0</td>\n",
              "      <td>1151</td>\n",
              "      <td>2.0</td>\n",
              "      <td>0.0</td>\n",
              "      <td>2.0</td>\n",
              "      <td>1</td>\n",
              "      <td>1</td>\n",
              "      <td>2</td>\n",
              "      <td>2</td>\n",
              "      <td>1</td>\n",
              "      <td>1</td>\n",
              "      <td>100</td>\n",
              "      <td>3</td>\n",
              "      <td>SpiceJet</td>\n",
              "    </tr>\n",
              "  </tbody>\n",
              "</table>\n",
              "</div>"
            ],
            "text/plain": [
              "                            Uniq Id  ... Modified Flight Operator\n",
              "0  723b6dbcffbdfc2c29321c248cb14a9d  ...                 Oman Air\n",
              "1  75624e36d7e8ea7e40cc5c33e6c96c01  ...                 SpiceJet\n",
              "\n",
              "[2 rows x 29 columns]"
            ]
          },
          "metadata": {
            "tags": []
          },
          "execution_count": 67
        }
      ]
    },
    {
      "cell_type": "code",
      "metadata": {
        "colab": {
          "base_uri": "https://localhost:8080/"
        },
        "id": "HpR_lVToY57Z",
        "outputId": "007b903a-813d-4b8e-8f6d-62b91628f848"
      },
      "source": [
        "flight_data['Modified Flight Operator'].value_counts()"
      ],
      "execution_count": null,
      "outputs": [
        {
          "output_type": "execute_result",
          "data": {
            "text/plain": [
              "Air India                9584\n",
              "Indigo                   4289\n",
              "Vistara                  2349\n",
              "Emirates Airlines        1451\n",
              "SpiceJet                 1266\n",
              "                         ... \n",
              "Hainan Airlines             1\n",
              "Jat Airways                 1\n",
              "Juneyao Airlines            1\n",
              "Azerbaijan Airlines         1\n",
              "Royal Brunei Airlines       1\n",
              "Name: Modified Flight Operator, Length: 115, dtype: int64"
            ]
          },
          "metadata": {
            "tags": []
          },
          "execution_count": 68
        }
      ]
    },
    {
      "cell_type": "code",
      "metadata": {
        "colab": {
          "base_uri": "https://localhost:8080/",
          "height": 446
        },
        "id": "YvczXu0Radjf",
        "outputId": "3b13e8a9-a80c-451a-c486-5a336ab89476"
      },
      "source": [
        "mod_flt=flight_data.groupby('Modified Flight Operator')[\"Uniq Id\"].agg({\"count\"})\n",
        "mod_flt"
      ],
      "execution_count": null,
      "outputs": [
        {
          "output_type": "execute_result",
          "data": {
            "text/html": [
              "<div>\n",
              "<style scoped>\n",
              "    .dataframe tbody tr th:only-of-type {\n",
              "        vertical-align: middle;\n",
              "    }\n",
              "\n",
              "    .dataframe tbody tr th {\n",
              "        vertical-align: top;\n",
              "    }\n",
              "\n",
              "    .dataframe thead th {\n",
              "        text-align: right;\n",
              "    }\n",
              "</style>\n",
              "<table border=\"1\" class=\"dataframe\">\n",
              "  <thead>\n",
              "    <tr style=\"text-align: right;\">\n",
              "      <th></th>\n",
              "      <th>count</th>\n",
              "    </tr>\n",
              "    <tr>\n",
              "      <th>Modified Flight Operator</th>\n",
              "      <th></th>\n",
              "    </tr>\n",
              "  </thead>\n",
              "  <tbody>\n",
              "    <tr>\n",
              "      <th>Aer Lingus</th>\n",
              "      <td>3</td>\n",
              "    </tr>\n",
              "    <tr>\n",
              "      <th>Aeroflot Russian Airlines</th>\n",
              "      <td>132</td>\n",
              "    </tr>\n",
              "    <tr>\n",
              "      <th>Air Astana</th>\n",
              "      <td>80</td>\n",
              "    </tr>\n",
              "    <tr>\n",
              "      <th>Air Canada</th>\n",
              "      <td>113</td>\n",
              "    </tr>\n",
              "    <tr>\n",
              "      <th>Air China</th>\n",
              "      <td>62</td>\n",
              "    </tr>\n",
              "    <tr>\n",
              "      <th>...</th>\n",
              "      <td>...</td>\n",
              "    </tr>\n",
              "    <tr>\n",
              "      <th>Uzbekistan Airways</th>\n",
              "      <td>6</td>\n",
              "    </tr>\n",
              "    <tr>\n",
              "      <th>Vietnam Airlines</th>\n",
              "      <td>32</td>\n",
              "    </tr>\n",
              "    <tr>\n",
              "      <th>Virgin Atlantic Airways</th>\n",
              "      <td>19</td>\n",
              "    </tr>\n",
              "    <tr>\n",
              "      <th>Vistara</th>\n",
              "      <td>2349</td>\n",
              "    </tr>\n",
              "    <tr>\n",
              "      <th>WestJet Airlines</th>\n",
              "      <td>3</td>\n",
              "    </tr>\n",
              "  </tbody>\n",
              "</table>\n",
              "<p>115 rows × 1 columns</p>\n",
              "</div>"
            ],
            "text/plain": [
              "                           count\n",
              "Modified Flight Operator        \n",
              "Aer Lingus                     3\n",
              "Aeroflot Russian Airlines    132\n",
              "Air Astana                    80\n",
              "Air Canada                   113\n",
              "Air China                     62\n",
              "...                          ...\n",
              "Uzbekistan Airways             6\n",
              "Vietnam Airlines              32\n",
              "Virgin Atlantic Airways       19\n",
              "Vistara                     2349\n",
              "WestJet Airlines               3\n",
              "\n",
              "[115 rows x 1 columns]"
            ]
          },
          "metadata": {
            "tags": []
          },
          "execution_count": 69
        }
      ]
    },
    {
      "cell_type": "code",
      "metadata": {
        "colab": {
          "base_uri": "https://localhost:8080/",
          "height": 463
        },
        "id": "dUjw7gPwY-NT",
        "outputId": "254328ee-1e78-40e8-f1de-12c03b3638ce"
      },
      "source": [
        "plt.figure(figsize=(16,8))\n",
        "plt.axhline(y=per_1,color='red',linestyle='--')\n",
        "sns.lineplot(data=mod_flt, x=\"Modified Flight Operator\",y=\"count\",color='blue' )"
      ],
      "execution_count": null,
      "outputs": [
        {
          "output_type": "execute_result",
          "data": {
            "text/plain": [
              "<matplotlib.axes._subplots.AxesSubplot at 0x7f51fa5ef290>"
            ]
          },
          "metadata": {
            "tags": []
          },
          "execution_count": 70
        },
        {
          "output_type": "display_data",
          "data": {
            "image/png": "[encoded data removed]",
            "text/plain": [
              "<Figure size 1152x576 with 1 Axes>"
            ]
          },
          "metadata": {
            "tags": [],
            "needs_background": "light"
          }
        }
      ]
    },
    {
      "cell_type": "code",
      "metadata": {
        "colab": {
          "base_uri": "https://localhost:8080/",
          "height": 891
        },
        "id": "PneXPcc3bAGp",
        "outputId": "7ffdbe92-f64c-4eb6-d470-1a568af6fb33"
      },
      "source": [
        "plt.figure(figsize=(50,50))\n",
        "sns.catplot(y = \"Fare\", x = \"Modified Flight Operator\", data = flight_data.sort_values(\"Fare\", ascending = False), kind=\"boxen\", height = 18, aspect = 1)\n",
        "plt.show()"
      ],
      "execution_count": null,
      "outputs": [
        {
          "output_type": "display_data",
          "data": {
            "text/plain": [
              "<Figure size 3600x3600 with 0 Axes>"
            ]
          },
          "metadata": {
            "tags": []
          }
        },
        {
          "output_type": "display_data",
          "data": {
            "image/png": "[encoded data removed]",
            "text/plain": [
              "<Figure size 1296x1296 with 1 Axes>"
            ]
          },
          "metadata": {
            "tags": [],
            "needs_background": "light"
          }
        }
      ]
    },
    {
      "cell_type": "code",
      "metadata": {
        "colab": {
          "base_uri": "https://localhost:8080/",
          "height": 186
        },
        "id": "v5rHLWT6b-0G",
        "outputId": "0666dd1b-f8d5-4809-8ee4-6ac2464206ed"
      },
      "source": [
        "flight_data.head(1)"
      ],
      "execution_count": null,
      "outputs": [
        {
          "output_type": "execute_result",
          "data": {
            "text/html": [
              "<div>\n",
              "<style scoped>\n",
              "    .dataframe tbody tr th:only-of-type {\n",
              "        vertical-align: middle;\n",
              "    }\n",
              "\n",
              "    .dataframe tbody tr th {\n",
              "        vertical-align: top;\n",
              "    }\n",
              "\n",
              "    .dataframe thead th {\n",
              "        text-align: right;\n",
              "    }\n",
              "</style>\n",
              "<table border=\"1\" class=\"dataframe\">\n",
              "  <thead>\n",
              "    <tr style=\"text-align: right;\">\n",
              "      <th></th>\n",
              "      <th>Uniq Id</th>\n",
              "      <th>Crawl Timestamp</th>\n",
              "      <th>Source</th>\n",
              "      <th>Layover1</th>\n",
              "      <th>Layover2</th>\n",
              "      <th>Layover3</th>\n",
              "      <th>Destination</th>\n",
              "      <th>Flight Operator</th>\n",
              "      <th>Flight Number</th>\n",
              "      <th>Departure Date</th>\n",
              "      <th>Departure Time</th>\n",
              "      <th>Arrival Date</th>\n",
              "      <th>Arrival Time</th>\n",
              "      <th>Total Time</th>\n",
              "      <th>Number Of Stops</th>\n",
              "      <th>Fare</th>\n",
              "      <th>Source Count</th>\n",
              "      <th>Source Encoded</th>\n",
              "      <th>Destination Encoded</th>\n",
              "      <th>S-D</th>\n",
              "      <th>DepDay</th>\n",
              "      <th>ArrDay</th>\n",
              "      <th>DepMonth</th>\n",
              "      <th>ArrMonth</th>\n",
              "      <th>Dep_Week_of_month</th>\n",
              "      <th>Arr_Week_of_month</th>\n",
              "      <th>Total Time Norm</th>\n",
              "      <th>DepSlot</th>\n",
              "      <th>Modified Flight Operator</th>\n",
              "    </tr>\n",
              "  </thead>\n",
              "  <tbody>\n",
              "    <tr>\n",
              "      <th>0</th>\n",
              "      <td>723b6dbcffbdfc2c29321c248cb14a9d</td>\n",
              "      <td>2020-02-01 00:46:15 +0000</td>\n",
              "      <td>Dubai</td>\n",
              "      <td>Muscat</td>\n",
              "      <td>Delhi</td>\n",
              "      <td>NaN</td>\n",
              "      <td>Kolkata</td>\n",
              "      <td>Oman Air|Oman Air|Air India</td>\n",
              "      <td>WY-612|WY-241|AI-764</td>\n",
              "      <td>06Feb2020</td>\n",
              "      <td>22:45</td>\n",
              "      <td>07Feb2020</td>\n",
              "      <td>19:10</td>\n",
              "      <td>18h 55m</td>\n",
              "      <td>2</td>\n",
              "      <td>26224.0</td>\n",
              "      <td>1099</td>\n",
              "      <td>1.0</td>\n",
              "      <td>16.0</td>\n",
              "      <td>-15.0</td>\n",
              "      <td>6</td>\n",
              "      <td>7</td>\n",
              "      <td>2</td>\n",
              "      <td>2</td>\n",
              "      <td>1</td>\n",
              "      <td>1</td>\n",
              "      <td>1135</td>\n",
              "      <td>4</td>\n",
              "      <td>Oman Air</td>\n",
              "    </tr>\n",
              "  </tbody>\n",
              "</table>\n",
              "</div>"
            ],
            "text/plain": [
              "                            Uniq Id  ... Modified Flight Operator\n",
              "0  723b6dbcffbdfc2c29321c248cb14a9d  ...                 Oman Air\n",
              "\n",
              "[1 rows x 29 columns]"
            ]
          },
          "metadata": {
            "tags": []
          },
          "execution_count": 72
        }
      ]
    },
    {
      "cell_type": "code",
      "metadata": {
        "colab": {
          "base_uri": "https://localhost:8080/",
          "height": 461
        },
        "id": "oXlBdsjTbZRA",
        "outputId": "8c9af840-c65a-494c-f609-55708283e631"
      },
      "source": [
        "plt.figure(figsize=(16,8))\n",
        "plt.axhline(y=per_1,color='red',linestyle='--')\n",
        "sns.lineplot(data=flight_data, x=\"Total Time Norm\",y=\"Fare\",color='blue' )"
      ],
      "execution_count": null,
      "outputs": [
        {
          "output_type": "execute_result",
          "data": {
            "text/plain": [
              "<matplotlib.axes._subplots.AxesSubplot at 0x7f51f9e64d90>"
            ]
          },
          "metadata": {
            "tags": []
          },
          "execution_count": 73
        },
        {
          "output_type": "display_data",
          "data": {
            "image/png": "[encoded data removed]",
            "text/plain": [
              "<Figure size 1152x576 with 1 Axes>"
            ]
          },
          "metadata": {
            "tags": [],
            "needs_background": "light"
          }
        }
      ]
    },
    {
      "cell_type": "code",
      "metadata": {
        "colab": {
          "base_uri": "https://localhost:8080/",
          "height": 269
        },
        "id": "05LhzkcYcYYB",
        "outputId": "2d8d2f4c-de12-42e0-bb83-3c34e7197854"
      },
      "source": [
        "flight_data.head(2)"
      ],
      "execution_count": null,
      "outputs": [
        {
          "output_type": "execute_result",
          "data": {
            "text/html": [
              "<div>\n",
              "<style scoped>\n",
              "    .dataframe tbody tr th:only-of-type {\n",
              "        vertical-align: middle;\n",
              "    }\n",
              "\n",
              "    .dataframe tbody tr th {\n",
              "        vertical-align: top;\n",
              "    }\n",
              "\n",
              "    .dataframe thead th {\n",
              "        text-align: right;\n",
              "    }\n",
              "</style>\n",
              "<table border=\"1\" class=\"dataframe\">\n",
              "  <thead>\n",
              "    <tr style=\"text-align: right;\">\n",
              "      <th></th>\n",
              "      <th>Uniq Id</th>\n",
              "      <th>Crawl Timestamp</th>\n",
              "      <th>Source</th>\n",
              "      <th>Layover1</th>\n",
              "      <th>Layover2</th>\n",
              "      <th>Layover3</th>\n",
              "      <th>Destination</th>\n",
              "      <th>Flight Operator</th>\n",
              "      <th>Flight Number</th>\n",
              "      <th>Departure Date</th>\n",
              "      <th>Departure Time</th>\n",
              "      <th>Arrival Date</th>\n",
              "      <th>Arrival Time</th>\n",
              "      <th>Total Time</th>\n",
              "      <th>Number Of Stops</th>\n",
              "      <th>Fare</th>\n",
              "      <th>Source Count</th>\n",
              "      <th>Source Encoded</th>\n",
              "      <th>Destination Encoded</th>\n",
              "      <th>S-D</th>\n",
              "      <th>DepDay</th>\n",
              "      <th>ArrDay</th>\n",
              "      <th>DepMonth</th>\n",
              "      <th>ArrMonth</th>\n",
              "      <th>Dep_Week_of_month</th>\n",
              "      <th>Arr_Week_of_month</th>\n",
              "      <th>Total Time Norm</th>\n",
              "      <th>DepSlot</th>\n",
              "      <th>Modified Flight Operator</th>\n",
              "    </tr>\n",
              "  </thead>\n",
              "  <tbody>\n",
              "    <tr>\n",
              "      <th>0</th>\n",
              "      <td>723b6dbcffbdfc2c29321c248cb14a9d</td>\n",
              "      <td>2020-02-01 00:46:15 +0000</td>\n",
              "      <td>Dubai</td>\n",
              "      <td>Muscat</td>\n",
              "      <td>Delhi</td>\n",
              "      <td>NaN</td>\n",
              "      <td>Kolkata</td>\n",
              "      <td>Oman Air|Oman Air|Air India</td>\n",
              "      <td>WY-612|WY-241|AI-764</td>\n",
              "      <td>06Feb2020</td>\n",
              "      <td>22:45</td>\n",
              "      <td>07Feb2020</td>\n",
              "      <td>19:10</td>\n",
              "      <td>18h 55m</td>\n",
              "      <td>2</td>\n",
              "      <td>26224.0</td>\n",
              "      <td>1099</td>\n",
              "      <td>1.0</td>\n",
              "      <td>16.0</td>\n",
              "      <td>-15.0</td>\n",
              "      <td>6</td>\n",
              "      <td>7</td>\n",
              "      <td>2</td>\n",
              "      <td>2</td>\n",
              "      <td>1</td>\n",
              "      <td>1</td>\n",
              "      <td>1135</td>\n",
              "      <td>4</td>\n",
              "      <td>Oman Air</td>\n",
              "    </tr>\n",
              "    <tr>\n",
              "      <th>1</th>\n",
              "      <td>75624e36d7e8ea7e40cc5c33e6c96c01</td>\n",
              "      <td>2020-01-13 13:29:00 +0000</td>\n",
              "      <td>Delhi</td>\n",
              "      <td>NaN</td>\n",
              "      <td>NaN</td>\n",
              "      <td>NaN</td>\n",
              "      <td>Patna</td>\n",
              "      <td>SpiceJet</td>\n",
              "      <td>SG-8480</td>\n",
              "      <td>01Feb2020</td>\n",
              "      <td>15:45</td>\n",
              "      <td>01Feb2020</td>\n",
              "      <td>17:25</td>\n",
              "      <td>01h 40m</td>\n",
              "      <td>0</td>\n",
              "      <td>2889.0</td>\n",
              "      <td>1151</td>\n",
              "      <td>2.0</td>\n",
              "      <td>0.0</td>\n",
              "      <td>2.0</td>\n",
              "      <td>1</td>\n",
              "      <td>1</td>\n",
              "      <td>2</td>\n",
              "      <td>2</td>\n",
              "      <td>1</td>\n",
              "      <td>1</td>\n",
              "      <td>100</td>\n",
              "      <td>3</td>\n",
              "      <td>SpiceJet</td>\n",
              "    </tr>\n",
              "  </tbody>\n",
              "</table>\n",
              "</div>"
            ],
            "text/plain": [
              "                            Uniq Id  ... Modified Flight Operator\n",
              "0  723b6dbcffbdfc2c29321c248cb14a9d  ...                 Oman Air\n",
              "1  75624e36d7e8ea7e40cc5c33e6c96c01  ...                 SpiceJet\n",
              "\n",
              "[2 rows x 29 columns]"
            ]
          },
          "metadata": {
            "tags": []
          },
          "execution_count": 74
        }
      ]
    },
    {
      "cell_type": "code",
      "metadata": {
        "id": "hw2qY8tHdiFQ"
      },
      "source": [
        "from sklearn import preprocessing\n"
      ],
      "execution_count": null,
      "outputs": []
    },
    {
      "cell_type": "code",
      "metadata": {
        "colab": {
          "base_uri": "https://localhost:8080/"
        },
        "id": "-_XjuFoDce1B",
        "outputId": "f78994c4-4c49-4746-ec84-706791bd354e"
      },
      "source": [
        "airlines = flight_data[\"Modified Flight Operator\"].unique().tolist()\n",
        "len(airlines)"
      ],
      "execution_count": null,
      "outputs": [
        {
          "output_type": "execute_result",
          "data": {
            "text/plain": [
              "115"
            ]
          },
          "metadata": {
            "tags": []
          },
          "execution_count": 76
        }
      ]
    },
    {
      "cell_type": "code",
      "metadata": {
        "colab": {
          "base_uri": "https://localhost:8080/"
        },
        "id": "RiWQMLDze2_8",
        "outputId": "964538a1-17a8-4d2a-f6f0-9670b62ff57a"
      },
      "source": [
        "airlines_encoder={\n",
        "    val:id+1 for id,val in enumerate(airlines)\n",
        "}\n",
        "airlines_encoder"
      ],
      "execution_count": null,
      "outputs": [
        {
          "output_type": "execute_result",
          "data": {
            "text/plain": [
              "{'Aer Lingus': 89,\n",
              " 'Aeroflot Russian Airlines': 57,\n",
              " 'Air Astana': 46,\n",
              " 'Air Canada': 55,\n",
              " 'Air China': 50,\n",
              " 'Air Connect': 86,\n",
              " 'Air Europa': 111,\n",
              " 'Air France': 23,\n",
              " 'Air India': 3,\n",
              " 'Air India Express': 43,\n",
              " 'Air Mauritius': 39,\n",
              " 'Air Seychelles': 92,\n",
              " 'AirArabia': 51,\n",
              " 'AirAsia': 26,\n",
              " 'Alaska Airlines': 64,\n",
              " 'Alitalia': 35,\n",
              " 'All Nippon Airways': 37,\n",
              " 'American Airlines': 38,\n",
              " 'Asiana Airlines': 62,\n",
              " 'Austrian Airways': 18,\n",
              " 'Azerbaijan Airlines': 99,\n",
              " 'Bangkok Airways': 10,\n",
              " 'Belavia Belarusian': 81,\n",
              " 'Biman Bangladesh': 21,\n",
              " 'British Airways': 15,\n",
              " 'Cathay Pacific Airways': 33,\n",
              " 'China Airlines': 88,\n",
              " 'China Eastern Airlines': 44,\n",
              " 'China Southern Airlines': 25,\n",
              " 'Delta Airlines': 58,\n",
              " 'Deutsche Bahn Ag': 42,\n",
              " 'Dragonair': 36,\n",
              " 'EVA Airways': 82,\n",
              " 'Egypt Airways': 14,\n",
              " 'El-Al-Israel Airlines': 59,\n",
              " 'Emirates Airlines': 13,\n",
              " 'Ethiopian Airlines': 8,\n",
              " 'Etihad Airways': 12,\n",
              " 'Eurowings': 53,\n",
              " 'Finnair': 70,\n",
              " 'FlyDubai': 48,\n",
              " 'Flybe': 71,\n",
              " 'GF': 95,\n",
              " 'Garuda Indonesia': 84,\n",
              " 'GoAir': 9,\n",
              " 'Gulf Airways': 29,\n",
              " 'Hahn Air Systems': 6,\n",
              " 'Hainan Airlines': 109,\n",
              " 'Hong Kong Airlines': 72,\n",
              " 'Hong Kong Express Airways': 76,\n",
              " 'Iberia Airlines': 30,\n",
              " 'Indigo': 4,\n",
              " 'Japan Airlines': 80,\n",
              " 'Jat Airways': 115,\n",
              " 'Jazeera Airways': 16,\n",
              " 'Jeju Air': 66,\n",
              " 'JetBlue Airways': 56,\n",
              " 'Jetstar Airways': 79,\n",
              " 'Jetstar Asia': 45,\n",
              " 'Jetstar Pacific': 103,\n",
              " 'Juneyao Airlines': 113,\n",
              " 'KLM Airlines': 11,\n",
              " 'Kam Air': 110,\n",
              " 'Kenya Airways': 32,\n",
              " 'Korean Airways': 41,\n",
              " 'Kuwait Airways': 47,\n",
              " 'LOT Polish Airlines': 68,\n",
              " 'Livingston Spa': 114,\n",
              " 'Lufthansa Airways': 27,\n",
              " 'Luxair': 73,\n",
              " 'MALINDO AIRWAYS': 78,\n",
              " 'MH': 108,\n",
              " 'Malayasian Airways': 17,\n",
              " 'Myanmar Airways Intl': 67,\n",
              " 'National Air Services': 54,\n",
              " 'Nepal Airways': 98,\n",
              " 'Oman Air': 1,\n",
              " 'Onur Air': 94,\n",
              " 'Pegasus Airlines': 74,\n",
              " 'Precision Airlines': 63,\n",
              " 'Qantas Airways': 65,\n",
              " 'Qatar Airways': 34,\n",
              " 'Royal Air Maroc': 19,\n",
              " 'Royal Brunei Airlines': 107,\n",
              " 'Royal Jordanian': 61,\n",
              " 'Rwandair': 100,\n",
              " 'S7 Airlines': 101,\n",
              " 'Saudi Arabian Airlines': 28,\n",
              " 'Scandinavian Airlines': 85,\n",
              " 'Scoot': 60,\n",
              " 'Shandong Airlines': 112,\n",
              " 'Shanghai Airlines': 106,\n",
              " 'Shenzhen Airlines': 87,\n",
              " 'Sichuan Airlines': 83,\n",
              " 'Silk Air': 31,\n",
              " 'Singapore Airlines': 24,\n",
              " 'South African Airways': 102,\n",
              " 'SpiceJet': 2,\n",
              " 'SriLankan Airlines': 22,\n",
              " 'Swiss': 40,\n",
              " 'TAP - Air Portugal': 90,\n",
              " 'Thai Airways International': 20,\n",
              " 'Thai Lion Air': 69,\n",
              " 'Thai Smile': 96,\n",
              " 'Trujet': 52,\n",
              " 'Turkish Airlines': 7,\n",
              " 'Ukraine Intl Airlines': 104,\n",
              " 'Uni Airways': 91,\n",
              " 'United Airlines': 77,\n",
              " 'Ural Airlines': 97,\n",
              " 'Uzbekistan Airways': 75,\n",
              " 'Vietnam Airlines': 49,\n",
              " 'Virgin Atlantic Airways': 93,\n",
              " 'Vistara': 5,\n",
              " 'WestJet Airlines': 105}"
            ]
          },
          "metadata": {
            "tags": []
          },
          "execution_count": 77
        }
      ]
    },
    {
      "cell_type": "code",
      "metadata": {
        "id": "vuLStLIHjNFL"
      },
      "source": [
        "import warnings\n",
        "warnings.filterwarnings('ignore')\n",
        "flight_data = flight_data.drop(columns=['Crawl Timestamp','Layover1','Layover2','Layover3'])\n",
        "# Uniq ID hatna hai yaha se bhi"
      ],
      "execution_count": null,
      "outputs": []
    },
    {
      "cell_type": "code",
      "metadata": {
        "id": "Ner_8xKifO6r"
      },
      "source": [
        "flight_data[\"Airlines Encoded\"]=flight_data[\"Modified Flight Operator\"].map(airlines_encoder)"
      ],
      "execution_count": null,
      "outputs": []
    },
    {
      "cell_type": "code",
      "metadata": {
        "colab": {
          "base_uri": "https://localhost:8080/",
          "height": 269
        },
        "id": "O81N1J51gBBe",
        "outputId": "8527b3f7-8368-4546-8fd2-e4e437ee5daf"
      },
      "source": [
        "flight_data.head(2)"
      ],
      "execution_count": null,
      "outputs": [
        {
          "output_type": "execute_result",
          "data": {
            "text/html": [
              "<div>\n",
              "<style scoped>\n",
              "    .dataframe tbody tr th:only-of-type {\n",
              "        vertical-align: middle;\n",
              "    }\n",
              "\n",
              "    .dataframe tbody tr th {\n",
              "        vertical-align: top;\n",
              "    }\n",
              "\n",
              "    .dataframe thead th {\n",
              "        text-align: right;\n",
              "    }\n",
              "</style>\n",
              "<table border=\"1\" class=\"dataframe\">\n",
              "  <thead>\n",
              "    <tr style=\"text-align: right;\">\n",
              "      <th></th>\n",
              "      <th>Uniq Id</th>\n",
              "      <th>Crawl Timestamp</th>\n",
              "      <th>Source</th>\n",
              "      <th>Layover1</th>\n",
              "      <th>Layover2</th>\n",
              "      <th>Layover3</th>\n",
              "      <th>Destination</th>\n",
              "      <th>Flight Operator</th>\n",
              "      <th>Flight Number</th>\n",
              "      <th>Departure Date</th>\n",
              "      <th>Departure Time</th>\n",
              "      <th>Arrival Date</th>\n",
              "      <th>Arrival Time</th>\n",
              "      <th>Total Time</th>\n",
              "      <th>Number Of Stops</th>\n",
              "      <th>Fare</th>\n",
              "      <th>Source Count</th>\n",
              "      <th>Source Encoded</th>\n",
              "      <th>Destination Encoded</th>\n",
              "      <th>S-D</th>\n",
              "      <th>DepDay</th>\n",
              "      <th>ArrDay</th>\n",
              "      <th>DepMonth</th>\n",
              "      <th>ArrMonth</th>\n",
              "      <th>Dep_Week_of_month</th>\n",
              "      <th>Arr_Week_of_month</th>\n",
              "      <th>Total Time Norm</th>\n",
              "      <th>DepSlot</th>\n",
              "      <th>Modified Flight Operator</th>\n",
              "      <th>Airlines Encoded</th>\n",
              "    </tr>\n",
              "  </thead>\n",
              "  <tbody>\n",
              "    <tr>\n",
              "      <th>0</th>\n",
              "      <td>723b6dbcffbdfc2c29321c248cb14a9d</td>\n",
              "      <td>2020-02-01 00:46:15 +0000</td>\n",
              "      <td>Dubai</td>\n",
              "      <td>Muscat</td>\n",
              "      <td>Delhi</td>\n",
              "      <td>NaN</td>\n",
              "      <td>Kolkata</td>\n",
              "      <td>Oman Air|Oman Air|Air India</td>\n",
              "      <td>WY-612|WY-241|AI-764</td>\n",
              "      <td>06Feb2020</td>\n",
              "      <td>22:45</td>\n",
              "      <td>07Feb2020</td>\n",
              "      <td>19:10</td>\n",
              "      <td>18h 55m</td>\n",
              "      <td>2</td>\n",
              "      <td>26224.0</td>\n",
              "      <td>1099</td>\n",
              "      <td>1.0</td>\n",
              "      <td>16.0</td>\n",
              "      <td>-15.0</td>\n",
              "      <td>6</td>\n",
              "      <td>7</td>\n",
              "      <td>2</td>\n",
              "      <td>2</td>\n",
              "      <td>1</td>\n",
              "      <td>1</td>\n",
              "      <td>1135</td>\n",
              "      <td>4</td>\n",
              "      <td>Oman Air</td>\n",
              "      <td>1</td>\n",
              "    </tr>\n",
              "    <tr>\n",
              "      <th>1</th>\n",
              "      <td>75624e36d7e8ea7e40cc5c33e6c96c01</td>\n",
              "      <td>2020-01-13 13:29:00 +0000</td>\n",
              "      <td>Delhi</td>\n",
              "      <td>NaN</td>\n",
              "      <td>NaN</td>\n",
              "      <td>NaN</td>\n",
              "      <td>Patna</td>\n",
              "      <td>SpiceJet</td>\n",
              "      <td>SG-8480</td>\n",
              "      <td>01Feb2020</td>\n",
              "      <td>15:45</td>\n",
              "      <td>01Feb2020</td>\n",
              "      <td>17:25</td>\n",
              "      <td>01h 40m</td>\n",
              "      <td>0</td>\n",
              "      <td>2889.0</td>\n",
              "      <td>1151</td>\n",
              "      <td>2.0</td>\n",
              "      <td>0.0</td>\n",
              "      <td>2.0</td>\n",
              "      <td>1</td>\n",
              "      <td>1</td>\n",
              "      <td>2</td>\n",
              "      <td>2</td>\n",
              "      <td>1</td>\n",
              "      <td>1</td>\n",
              "      <td>100</td>\n",
              "      <td>3</td>\n",
              "      <td>SpiceJet</td>\n",
              "      <td>2</td>\n",
              "    </tr>\n",
              "  </tbody>\n",
              "</table>\n",
              "</div>"
            ],
            "text/plain": [
              "                            Uniq Id  ... Airlines Encoded\n",
              "0  723b6dbcffbdfc2c29321c248cb14a9d  ...                1\n",
              "1  75624e36d7e8ea7e40cc5c33e6c96c01  ...                2\n",
              "\n",
              "[2 rows x 30 columns]"
            ]
          },
          "metadata": {
            "tags": []
          },
          "execution_count": 79
        }
      ]
    },
    {
      "cell_type": "code",
      "metadata": {
        "id": "s5n-mfaVgH62",
        "colab": {
          "base_uri": "https://localhost:8080/",
          "height": 690
        },
        "outputId": "014eed2d-1057-4da2-bed4-d8f121e49bb2"
      },
      "source": [
        "import seaborn as sns\n",
        "corr=flight_data.corr()\n",
        "plt.figure(figsize=(14,10))\n",
        "ax = sns.heatmap(corr,annot=True)"
      ],
      "execution_count": null,
      "outputs": [
        {
          "output_type": "display_data",
          "data": {
            "image/png": "[encoded data removed]",
            "text/plain": [
              "<Figure size 1008x720 with 2 Axes>"
            ]
          },
          "metadata": {
            "tags": [],
            "needs_background": "light"
          }
        }
      ]
    },
    {
      "cell_type": "code",
      "metadata": {
        "colab": {
          "base_uri": "https://localhost:8080/",
          "height": 234
        },
        "id": "UH3PdmWUkS2U",
        "outputId": "ac703df7-93c2-45ca-989f-70fcbe55b6f7"
      },
      "source": [
        "flight_data.head(2)"
      ],
      "execution_count": null,
      "outputs": [
        {
          "output_type": "execute_result",
          "data": {
            "text/html": [
              "<div>\n",
              "<style scoped>\n",
              "    .dataframe tbody tr th:only-of-type {\n",
              "        vertical-align: middle;\n",
              "    }\n",
              "\n",
              "    .dataframe tbody tr th {\n",
              "        vertical-align: top;\n",
              "    }\n",
              "\n",
              "    .dataframe thead th {\n",
              "        text-align: right;\n",
              "    }\n",
              "</style>\n",
              "<table border=\"1\" class=\"dataframe\">\n",
              "  <thead>\n",
              "    <tr style=\"text-align: right;\">\n",
              "      <th></th>\n",
              "      <th>Source</th>\n",
              "      <th>Destination</th>\n",
              "      <th>Flight Operator</th>\n",
              "      <th>Flight Number</th>\n",
              "      <th>Departure Date</th>\n",
              "      <th>Departure Time</th>\n",
              "      <th>Arrival Date</th>\n",
              "      <th>Arrival Time</th>\n",
              "      <th>Total Time</th>\n",
              "      <th>Number Of Stops</th>\n",
              "      <th>Fare</th>\n",
              "      <th>Source Count</th>\n",
              "      <th>Source Encoded</th>\n",
              "      <th>Destination Encoded</th>\n",
              "      <th>S-D</th>\n",
              "      <th>DepDay</th>\n",
              "      <th>ArrDay</th>\n",
              "      <th>DepMonth</th>\n",
              "      <th>ArrMonth</th>\n",
              "      <th>Dep_Week_of_month</th>\n",
              "      <th>Arr_Week_of_month</th>\n",
              "      <th>Total Time Norm</th>\n",
              "      <th>DepSlot</th>\n",
              "      <th>Modified Flight Operator</th>\n",
              "      <th>Airlines Encoded</th>\n",
              "    </tr>\n",
              "  </thead>\n",
              "  <tbody>\n",
              "    <tr>\n",
              "      <th>0</th>\n",
              "      <td>Dubai</td>\n",
              "      <td>Kolkata</td>\n",
              "      <td>Oman Air|Oman Air|Air India</td>\n",
              "      <td>WY-612|WY-241|AI-764</td>\n",
              "      <td>06Feb2020</td>\n",
              "      <td>22:45</td>\n",
              "      <td>07Feb2020</td>\n",
              "      <td>19:10</td>\n",
              "      <td>18h 55m</td>\n",
              "      <td>2</td>\n",
              "      <td>26224.0</td>\n",
              "      <td>1099</td>\n",
              "      <td>1.0</td>\n",
              "      <td>16.0</td>\n",
              "      <td>-15.0</td>\n",
              "      <td>6</td>\n",
              "      <td>7</td>\n",
              "      <td>2</td>\n",
              "      <td>2</td>\n",
              "      <td>1</td>\n",
              "      <td>1</td>\n",
              "      <td>1135</td>\n",
              "      <td>4</td>\n",
              "      <td>Oman Air</td>\n",
              "      <td>1</td>\n",
              "    </tr>\n",
              "    <tr>\n",
              "      <th>1</th>\n",
              "      <td>Delhi</td>\n",
              "      <td>Patna</td>\n",
              "      <td>SpiceJet</td>\n",
              "      <td>SG-8480</td>\n",
              "      <td>01Feb2020</td>\n",
              "      <td>15:45</td>\n",
              "      <td>01Feb2020</td>\n",
              "      <td>17:25</td>\n",
              "      <td>01h 40m</td>\n",
              "      <td>0</td>\n",
              "      <td>2889.0</td>\n",
              "      <td>1151</td>\n",
              "      <td>2.0</td>\n",
              "      <td>0.0</td>\n",
              "      <td>2.0</td>\n",
              "      <td>1</td>\n",
              "      <td>1</td>\n",
              "      <td>2</td>\n",
              "      <td>2</td>\n",
              "      <td>1</td>\n",
              "      <td>1</td>\n",
              "      <td>100</td>\n",
              "      <td>3</td>\n",
              "      <td>SpiceJet</td>\n",
              "      <td>2</td>\n",
              "    </tr>\n",
              "  </tbody>\n",
              "</table>\n",
              "</div>"
            ],
            "text/plain": [
              "  Source Destination  ... Modified Flight Operator Airlines Encoded\n",
              "0  Dubai     Kolkata  ...                 Oman Air                1\n",
              "1  Delhi       Patna  ...                 SpiceJet                2\n",
              "\n",
              "[2 rows x 25 columns]"
            ]
          },
          "metadata": {
            "tags": []
          },
          "execution_count": 96
        }
      ]
    },
    {
      "cell_type": "code",
      "metadata": {
        "colab": {
          "base_uri": "https://localhost:8080/",
          "height": 195
        },
        "id": "a2n17YOdkIu5",
        "outputId": "2d4b0153-6f0f-4502-9bca-e0f8d960184f"
      },
      "source": [
        "features = ['Number Of Stops','Source Count','Source Encoded','Destination Encoded','S-D','DepDay','ArrDay','DepMonth',\n",
        "            'ArrMonth','Dep_Week_of_month','Arr_Week_of_month','Total Time Norm'\n",
        "            ,'DepSlot','Airlines Encoded','Fare']\n",
        "\n",
        "new_data = flight_data[features]\n",
        "new_data.head(3)"
      ],
      "execution_count": null,
      "outputs": [
        {
          "output_type": "execute_result",
          "data": {
            "text/html": [
              "<div>\n",
              "<style scoped>\n",
              "    .dataframe tbody tr th:only-of-type {\n",
              "        vertical-align: middle;\n",
              "    }\n",
              "\n",
              "    .dataframe tbody tr th {\n",
              "        vertical-align: top;\n",
              "    }\n",
              "\n",
              "    .dataframe thead th {\n",
              "        text-align: right;\n",
              "    }\n",
              "</style>\n",
              "<table border=\"1\" class=\"dataframe\">\n",
              "  <thead>\n",
              "    <tr style=\"text-align: right;\">\n",
              "      <th></th>\n",
              "      <th>Number Of Stops</th>\n",
              "      <th>Source Count</th>\n",
              "      <th>Source Encoded</th>\n",
              "      <th>Destination Encoded</th>\n",
              "      <th>S-D</th>\n",
              "      <th>DepDay</th>\n",
              "      <th>ArrDay</th>\n",
              "      <th>DepMonth</th>\n",
              "      <th>ArrMonth</th>\n",
              "      <th>Dep_Week_of_month</th>\n",
              "      <th>Arr_Week_of_month</th>\n",
              "      <th>Total Time Norm</th>\n",
              "      <th>DepSlot</th>\n",
              "      <th>Airlines Encoded</th>\n",
              "      <th>Fare</th>\n",
              "    </tr>\n",
              "  </thead>\n",
              "  <tbody>\n",
              "    <tr>\n",
              "      <th>0</th>\n",
              "      <td>2</td>\n",
              "      <td>1099</td>\n",
              "      <td>1.0</td>\n",
              "      <td>16.0</td>\n",
              "      <td>-15.0</td>\n",
              "      <td>6</td>\n",
              "      <td>7</td>\n",
              "      <td>2</td>\n",
              "      <td>2</td>\n",
              "      <td>1</td>\n",
              "      <td>1</td>\n",
              "      <td>1135</td>\n",
              "      <td>4</td>\n",
              "      <td>1</td>\n",
              "      <td>26224.0</td>\n",
              "    </tr>\n",
              "    <tr>\n",
              "      <th>1</th>\n",
              "      <td>0</td>\n",
              "      <td>1151</td>\n",
              "      <td>2.0</td>\n",
              "      <td>0.0</td>\n",
              "      <td>2.0</td>\n",
              "      <td>1</td>\n",
              "      <td>1</td>\n",
              "      <td>2</td>\n",
              "      <td>2</td>\n",
              "      <td>1</td>\n",
              "      <td>1</td>\n",
              "      <td>100</td>\n",
              "      <td>3</td>\n",
              "      <td>2</td>\n",
              "      <td>2889.0</td>\n",
              "    </tr>\n",
              "    <tr>\n",
              "      <th>2</th>\n",
              "      <td>2</td>\n",
              "      <td>1919</td>\n",
              "      <td>3.0</td>\n",
              "      <td>0.0</td>\n",
              "      <td>3.0</td>\n",
              "      <td>23</td>\n",
              "      <td>24</td>\n",
              "      <td>1</td>\n",
              "      <td>1</td>\n",
              "      <td>4</td>\n",
              "      <td>4</td>\n",
              "      <td>1280</td>\n",
              "      <td>2</td>\n",
              "      <td>3</td>\n",
              "      <td>13518.0</td>\n",
              "    </tr>\n",
              "  </tbody>\n",
              "</table>\n",
              "</div>"
            ],
            "text/plain": [
              "   Number Of Stops  Source Count  ...  Airlines Encoded     Fare\n",
              "0                2          1099  ...                 1  26224.0\n",
              "1                0          1151  ...                 2   2889.0\n",
              "2                2          1919  ...                 3  13518.0\n",
              "\n",
              "[3 rows x 15 columns]"
            ]
          },
          "metadata": {
            "tags": []
          },
          "execution_count": 99
        }
      ]
    },
    {
      "cell_type": "code",
      "metadata": {
        "id": "farbIYQxh1Oo"
      },
      "source": [
        "def FFS(X,y):\n",
        "    from mlxtend.feature_selection import SequentialFeatureSelector as SFS\n",
        "    from sklearn.linear_model import LinearRegression\n",
        "    # Sequential Forward Selection(sfs)\n",
        "    sfs = SFS(LinearRegression(),\n",
        "              k_features=8,\n",
        "              forward=True,\n",
        "              scoring = 'r2',\n",
        "              cv = 5)\n",
        "    sfs.fit(X, y)#doing the FFS\n",
        "    \n",
        "    return sfs.k_feature_names_"
      ],
      "execution_count": null,
      "outputs": []
    },
    {
      "cell_type": "code",
      "metadata": {
        "id": "CRgmwpeziay4"
      },
      "source": [
        "x_train = new_data.drop(columns=['Fare'])\n",
        "y_train = new_data['Fare']"
      ],
      "execution_count": null,
      "outputs": []
    },
    {
      "cell_type": "code",
      "metadata": {
        "colab": {
          "base_uri": "https://localhost:8080/"
        },
        "id": "7NZ7ubV6ipOF",
        "outputId": "f9e0a1d3-248c-4c68-8b4e-34cc80138f0e"
      },
      "source": [
        "FFS(x_train , y_train)"
      ],
      "execution_count": null,
      "outputs": [
        {
          "output_type": "execute_result",
          "data": {
            "text/plain": [
              "('Source Count',\n",
              " 'Source Encoded',\n",
              " 'DepDay',\n",
              " 'DepMonth',\n",
              " 'ArrMonth',\n",
              " 'Arr_Week_of_month',\n",
              " 'Total Time Norm',\n",
              " 'Airlines Encoded')"
            ]
          },
          "metadata": {
            "tags": []
          },
          "execution_count": 101
        }
      ]
    },
    {
      "cell_type": "code",
      "metadata": {
        "id": "ystyjPvtislB"
      },
      "source": [
        "def tree_based_feature_importance(x_train,y_train):\n",
        "    from sklearn.ensemble import RandomForestRegressor\n",
        "    # create the random forest model\n",
        "    model = RandomForestRegressor(n_estimators=120)\n",
        "\n",
        "    # fit the model to start training.\n",
        "    model.fit(x_train, y_train)\n",
        "\n",
        "    # get the importance of the resulting features.\n",
        "    importances = model.feature_importances_\n",
        "\n",
        "    # create a data frame for visualization.\n",
        "    final_df = pd.DataFrame({\"Features\": x_train.columns, \"Importances\":importances})\n",
        "    final_df.set_index('Importances')\n",
        "\n",
        "    # sort in descending order \n",
        "    final_df = final_df.sort_values('Importances',ascending=False)\n",
        "    \n",
        "    #visualising feature importance\n",
        "    pd.Series(model.feature_importances_, index=x_train.columns).nlargest(6).plot(kind='barh')  \n",
        "    return final_df"
      ],
      "execution_count": null,
      "outputs": []
    },
    {
      "cell_type": "code",
      "metadata": {
        "colab": {
          "base_uri": "https://localhost:8080/",
          "height": 726
        },
        "id": "-XMcbbg0i-ci",
        "outputId": "b7505d52-e86b-436a-ce52-e14ada37c58d"
      },
      "source": [
        "feature_importance=tree_based_feature_importance(x_train,y_train) # dataframe for the same\n",
        "display(feature_importance)"
      ],
      "execution_count": null,
      "outputs": [
        {
          "output_type": "display_data",
          "data": {
            "text/html": [
              "<div>\n",
              "<style scoped>\n",
              "    .dataframe tbody tr th:only-of-type {\n",
              "        vertical-align: middle;\n",
              "    }\n",
              "\n",
              "    .dataframe tbody tr th {\n",
              "        vertical-align: top;\n",
              "    }\n",
              "\n",
              "    .dataframe thead th {\n",
              "        text-align: right;\n",
              "    }\n",
              "</style>\n",
              "<table border=\"1\" class=\"dataframe\">\n",
              "  <thead>\n",
              "    <tr style=\"text-align: right;\">\n",
              "      <th></th>\n",
              "      <th>Features</th>\n",
              "      <th>Importances</th>\n",
              "    </tr>\n",
              "  </thead>\n",
              "  <tbody>\n",
              "    <tr>\n",
              "      <th>13</th>\n",
              "      <td>Airlines Encoded</td>\n",
              "      <td>0.442905</td>\n",
              "    </tr>\n",
              "    <tr>\n",
              "      <th>11</th>\n",
              "      <td>Total Time Norm</td>\n",
              "      <td>0.163927</td>\n",
              "    </tr>\n",
              "    <tr>\n",
              "      <th>1</th>\n",
              "      <td>Source Count</td>\n",
              "      <td>0.130806</td>\n",
              "    </tr>\n",
              "    <tr>\n",
              "      <th>4</th>\n",
              "      <td>S-D</td>\n",
              "      <td>0.041904</td>\n",
              "    </tr>\n",
              "    <tr>\n",
              "      <th>3</th>\n",
              "      <td>Destination Encoded</td>\n",
              "      <td>0.035390</td>\n",
              "    </tr>\n",
              "    <tr>\n",
              "      <th>12</th>\n",
              "      <td>DepSlot</td>\n",
              "      <td>0.032799</td>\n",
              "    </tr>\n",
              "    <tr>\n",
              "      <th>0</th>\n",
              "      <td>Number Of Stops</td>\n",
              "      <td>0.032447</td>\n",
              "    </tr>\n",
              "    <tr>\n",
              "      <th>5</th>\n",
              "      <td>DepDay</td>\n",
              "      <td>0.031214</td>\n",
              "    </tr>\n",
              "    <tr>\n",
              "      <th>6</th>\n",
              "      <td>ArrDay</td>\n",
              "      <td>0.030638</td>\n",
              "    </tr>\n",
              "    <tr>\n",
              "      <th>2</th>\n",
              "      <td>Source Encoded</td>\n",
              "      <td>0.027734</td>\n",
              "    </tr>\n",
              "    <tr>\n",
              "      <th>10</th>\n",
              "      <td>Arr_Week_of_month</td>\n",
              "      <td>0.008180</td>\n",
              "    </tr>\n",
              "    <tr>\n",
              "      <th>8</th>\n",
              "      <td>ArrMonth</td>\n",
              "      <td>0.007670</td>\n",
              "    </tr>\n",
              "    <tr>\n",
              "      <th>9</th>\n",
              "      <td>Dep_Week_of_month</td>\n",
              "      <td>0.007445</td>\n",
              "    </tr>\n",
              "    <tr>\n",
              "      <th>7</th>\n",
              "      <td>DepMonth</td>\n",
              "      <td>0.006940</td>\n",
              "    </tr>\n",
              "  </tbody>\n",
              "</table>\n",
              "</div>"
            ],
            "text/plain": [
              "               Features  Importances\n",
              "13     Airlines Encoded     0.442905\n",
              "11      Total Time Norm     0.163927\n",
              "1          Source Count     0.130806\n",
              "4                   S-D     0.041904\n",
              "3   Destination Encoded     0.035390\n",
              "12              DepSlot     0.032799\n",
              "0       Number Of Stops     0.032447\n",
              "5                DepDay     0.031214\n",
              "6                ArrDay     0.030638\n",
              "2        Source Encoded     0.027734\n",
              "10    Arr_Week_of_month     0.008180\n",
              "8              ArrMonth     0.007670\n",
              "9     Dep_Week_of_month     0.007445\n",
              "7              DepMonth     0.006940"
            ]
          },
          "metadata": {
            "tags": []
          }
        },
        {
          "output_type": "display_data",
          "data": {
            "image/png": "[encoded data removed]",
            "text/plain": [
              "<Figure size 432x288 with 1 Axes>"
            ]
          },
          "metadata": {
            "tags": [],
            "needs_background": "light"
          }
        }
      ]
    },
    {
      "cell_type": "code",
      "metadata": {
        "id": "7Y5RlHnsjIqu"
      },
      "source": [
        "selected_features = [\"Airlines Encoded\"\t\n",
        "\t,\"Total Time Norm\"\t\n",
        "\t,\"Source Count\"\t\n",
        "\t,\"S-D\"\t\n",
        "\t,\"Destination Encoded\"\t\n",
        "\t,\"DepSlot\",\"Number Of Stops\"]"
      ],
      "execution_count": null,
      "outputs": []
    },
    {
      "cell_type": "code",
      "metadata": {
        "id": "sqTP6b1HmRJC"
      },
      "source": [
        "from sklearn.model_selection import train_test_split"
      ],
      "execution_count": null,
      "outputs": []
    },
    {
      "cell_type": "code",
      "metadata": {
        "id": "kvhDN2CfmgZG"
      },
      "source": [
        "X = new_data[selected_features]\n",
        "y = new_data[['Fare']]"
      ],
      "execution_count": null,
      "outputs": []
    },
    {
      "cell_type": "code",
      "metadata": {
        "id": "rrIj3EUTmcAO"
      },
      "source": [
        "X_train, X_test, y_train, y_test = train_test_split(X, y, test_size=0.25, random_state=42)"
      ],
      "execution_count": null,
      "outputs": []
    },
    {
      "cell_type": "code",
      "metadata": {
        "colab": {
          "base_uri": "https://localhost:8080/"
        },
        "id": "tpGA1hJRm1eN",
        "outputId": "87225c0e-7a71-4f2d-9cf1-31910396e664"
      },
      "source": [
        "print(X_train.shape , X_test.shape , y_train.shape , y_test.shape)"
      ],
      "execution_count": null,
      "outputs": [
        {
          "output_type": "stream",
          "text": [
            "(22518, 7) (7506, 7) (22518, 1) (7506, 1)\n"
          ],
          "name": "stdout"
        }
      ]
    },
    {
      "cell_type": "code",
      "metadata": {
        "colab": {
          "base_uri": "https://localhost:8080/"
        },
        "id": "ZneZ1Ks0m9pf",
        "outputId": "6e5d207d-fbae-4280-ce99-52a78c338301"
      },
      "source": [
        "from sklearn.linear_model import LinearRegression # Importing the linear regression class form sklearn.\n",
        "from sklearn.metrics import mean_squared_error # Mean squared error, will give us the error from the actual values.\n",
        "from sklearn.metrics import r2_score # r2 score will give us the scoreo of the predictions.\n",
        "\n",
        "linear_regressor_1 = LinearRegression() # regressor-1\n",
        "linear_regressor_1.fit(X_train, y_train) # regressor 1 will fit the FFS features\n",
        "\n",
        "predicted_1 = linear_regressor_1.predict(X_test) \n",
        "\n",
        "mse_1 = mean_squared_error(y_test, predicted_1)\n",
        "r2_1 = r2_score(y_test, predicted_1)\n",
        "# MSE and R2 score for the ffs features\n",
        "\n",
        "print(f'FFS Features : {mse_1} , {r2_1}')"
      ],
      "execution_count": null,
      "outputs": [
        {
          "output_type": "stream",
          "text": [
            "FFS Features : 1810659634.7635887 , 0.21371150223636826\n"
          ],
          "name": "stdout"
        }
      ]
    },
    {
      "cell_type": "code",
      "metadata": {
        "colab": {
          "base_uri": "https://localhost:8080/"
        },
        "id": "ALDrctDanlmN",
        "outputId": "7a85cbc3-06dd-49fb-bc56-cf87b443c73d"
      },
      "source": [
        "from sklearn.ensemble import RandomForestRegressor # Importing the Random forest regressor algo from sklearn ensemble.\n",
        "\n",
        "# Random forest Regressor is an ensemble method which parallely trains many decsion tree and the \n",
        "# Average of these tree is the prediction . \n",
        "# N estimators are the number of parallel trees that needs to be trained. \n",
        "\n",
        "random_forest_regressor_1 = RandomForestRegressor(n_estimators=130,max_features='auto',min_samples_split=8,bootstrap=True)\n",
        "\n",
        "random_forest_regressor_1.fit(X_train, y_train) # r-1 for the ffs features r-2 for the tree features\n",
        "\n",
        "predicted_1 = random_forest_regressor_1.predict(X_test) # prediction on ffs features\n",
        "\n",
        "mse_1 = mean_squared_error(y_test, predicted_1)\n",
        "r2_1 = r2_score(y_test, predicted_1)\n",
        "\n",
        "print(f'{mse_1} , {r2_1}')"
      ],
      "execution_count": null,
      "outputs": [
        {
          "output_type": "stream",
          "text": [
            "878652573.150964 , 0.6184404851499183\n"
          ],
          "name": "stdout"
        }
      ]
    },
    {
      "cell_type": "code",
      "metadata": {
        "colab": {
          "base_uri": "https://localhost:8080/"
        },
        "id": "BexkbzbnoJBs",
        "outputId": "d23ef5f8-63ab-4887-cc68-6b6719455c15"
      },
      "source": [
        "import xgboost as xgb # XGB boosting library\n",
        "\n",
        "xgb_regressor_1 = xgb.XGBRegressor()\n",
        "xgb_regressor_1.fit(X_train, y_train)  \n",
        "\n",
        "predicted_1 = xgb_regressor_1.predict(X_test)\n",
        "\n",
        "mse_1 = mean_squared_error(y_test, predicted_1)\n",
        "r2_1 = r2_score(y_test, predicted_1)\n",
        "\n",
        "print(f'Tree Features : {mse_1} , {r2_1}')"
      ],
      "execution_count": null,
      "outputs": [
        {
          "output_type": "stream",
          "text": [
            "[18:30:56] WARNING: /workspace/src/objective/regression_obj.cu:152: reg:linear is now deprecated in favor of reg:squarederror.\n",
            "Tree Features : 1186296777.6425877 , 0.48484436650280993\n"
          ],
          "name": "stdout"
        }
      ]
    },
    {
      "cell_type": "code",
      "metadata": {
        "colab": {
          "base_uri": "https://localhost:8080/"
        },
        "id": "SY7M1-EYp1-r",
        "outputId": "f7299a01-eaa1-4d4b-9e31-99c6d7f114e4"
      },
      "source": [
        "from sklearn.svm import SVR # Importing the support vector regressor\n",
        "\n",
        "svm_regressor_1 = SVR()\n",
        "svm_regressor_1.fit(X_train, y_train) # regressor 1 will fit the FFS features\n",
        "\n",
        "\n",
        "predicted_1 = svm_regressor_1.predict(X_test)\n",
        "\n",
        "mse_1 = mean_squared_error(y_test, predicted_1)\n",
        "r2_1 = r2_score(y_test, predicted_1)\n",
        "\n",
        "print(f'Tree Features : {mse_1} , {r2_1}')"
      ],
      "execution_count": null,
      "outputs": [
        {
          "output_type": "stream",
          "text": [
            "Tree Features : 2544873532.29438 , -0.10512475580063363\n"
          ],
          "name": "stdout"
        }
      ]
    },
    {
      "cell_type": "code",
      "metadata": {
        "id": "3MRykBqwqpWJ"
      },
      "source": [
        "def hyperParameterTuning(X_train, y_train):\n",
        "    from sklearn.model_selection import GridSearchCV\n",
        "    param_tuning = {\n",
        "        'learning_rate': [0.01, 0.1], # Learning rate for the Gradient descent algorithm\n",
        "        'max_depth': [3, 5, 7, 10], # maximum depth of a tree (prevents overfitting)\n",
        "        'min_child_weight': [1, 3, 5], # sum of weights of all observations required in a child\n",
        "        'subsample': [0.5, 0.7], #  fraction of observations to be randomly sampled for each tree.\n",
        "        'n_estimators' : [100, 200, 500], # No of trees\n",
        "    }\n",
        "    xgb_model = xgb.XGBRegressor() # Declaring the regressor\n",
        "    gsearch = GridSearchCV(estimator = xgb_model,\n",
        "                           param_grid = param_tuning,                \n",
        "                           scoring = 'neg_mean_squared_error',  #MSE\n",
        "                           cv = 5, # cross validation = 5, (4 train rest 1-test)\n",
        "                           n_jobs = -1, ## all processors\n",
        "                           verbose = 1)\n",
        "\n",
        "    gsearch.fit(X_train,y_train) # fittinng the data\n",
        "    return gsearch.best_score_ , gsearch.best_params_"
      ],
      "execution_count": null,
      "outputs": []
    },
    {
      "cell_type": "code",
      "metadata": {
        "colab": {
          "base_uri": "https://localhost:8080/",
          "height": 381
        },
        "id": "jR-DrxN7rr6a",
        "outputId": "bddf7c86-9957-4377-c3d6-31ad5e79397c"
      },
      "source": [
        "hyperParameterTuning(X_train, y_train)"
      ],
      "execution_count": null,
      "outputs": [
        {
          "output_type": "stream",
          "text": [
            "Fitting 5 folds for each of 144 candidates, totalling 720 fits\n"
          ],
          "name": "stdout"
        },
        {
          "output_type": "stream",
          "text": [
            "[Parallel(n_jobs=-1)]: Using backend LokyBackend with 2 concurrent workers.\n",
            "[Parallel(n_jobs=-1)]: Done  46 tasks      | elapsed:  1.2min\n",
            "[Parallel(n_jobs=-1)]: Done 196 tasks      | elapsed:  7.7min\n"
          ],
          "name": "stderr"
        },
        {
          "output_type": "error",
          "ename": "KeyboardInterrupt",
          "evalue": "ignored",
          "traceback": [
            "\u001b[0;31m---------------------------------------------------------------------------\u001b[0m",
            "\u001b[0;31mKeyboardInterrupt\u001b[0m                         Traceback (most recent call last)",
            "\u001b[0;32m<ipython-input-136-5a41c3114d35>\u001b[0m in \u001b[0;36m<module>\u001b[0;34m()\u001b[0m\n\u001b[0;32m----> 1\u001b[0;31m \u001b[0mhyperParameterTuning\u001b[0m\u001b[0;34m(\u001b[0m\u001b[0mX_train\u001b[0m\u001b[0;34m,\u001b[0m \u001b[0my_train\u001b[0m\u001b[0;34m)\u001b[0m\u001b[0;34m\u001b[0m\u001b[0;34m\u001b[0m\u001b[0m\n\u001b[0m",
            "\u001b[0;32m<ipython-input-135-eac1a70b992f>\u001b[0m in \u001b[0;36mhyperParameterTuning\u001b[0;34m(X_train, y_train)\u001b[0m\n\u001b[1;32m     16\u001b[0m                            verbose = 1)\n\u001b[1;32m     17\u001b[0m \u001b[0;34m\u001b[0m\u001b[0m\n\u001b[0;32m---> 18\u001b[0;31m     \u001b[0mgsearch\u001b[0m\u001b[0;34m.\u001b[0m\u001b[0mfit\u001b[0m\u001b[0;34m(\u001b[0m\u001b[0mX_train\u001b[0m\u001b[0;34m,\u001b[0m\u001b[0my_train\u001b[0m\u001b[0;34m)\u001b[0m \u001b[0;31m# fittinng the data\u001b[0m\u001b[0;34m\u001b[0m\u001b[0;34m\u001b[0m\u001b[0m\n\u001b[0m\u001b[1;32m     19\u001b[0m     \u001b[0;32mreturn\u001b[0m \u001b[0mgsearch\u001b[0m\u001b[0;34m.\u001b[0m\u001b[0mbest_score_\u001b[0m \u001b[0;34m,\u001b[0m \u001b[0mgsearch\u001b[0m\u001b[0;34m.\u001b[0m\u001b[0mbest_params_\u001b[0m\u001b[0;34m\u001b[0m\u001b[0;34m\u001b[0m\u001b[0m\n",
            "\u001b[0;32m/usr/local/lib/python3.7/dist-packages/sklearn/model_selection/_search.py\u001b[0m in \u001b[0;36mfit\u001b[0;34m(self, X, y, groups, **fit_params)\u001b[0m\n\u001b[1;32m    708\u001b[0m                 \u001b[0;32mreturn\u001b[0m \u001b[0mresults\u001b[0m\u001b[0;34m\u001b[0m\u001b[0;34m\u001b[0m\u001b[0m\n\u001b[1;32m    709\u001b[0m \u001b[0;34m\u001b[0m\u001b[0m\n\u001b[0;32m--> 710\u001b[0;31m             \u001b[0mself\u001b[0m\u001b[0;34m.\u001b[0m\u001b[0m_run_search\u001b[0m\u001b[0;34m(\u001b[0m\u001b[0mevaluate_candidates\u001b[0m\u001b[0;34m)\u001b[0m\u001b[0;34m\u001b[0m\u001b[0;34m\u001b[0m\u001b[0m\n\u001b[0m\u001b[1;32m    711\u001b[0m \u001b[0;34m\u001b[0m\u001b[0m\n\u001b[1;32m    712\u001b[0m         \u001b[0;31m# For multi-metric evaluation, store the best_index_, best_params_ and\u001b[0m\u001b[0;34m\u001b[0m\u001b[0;34m\u001b[0m\u001b[0;34m\u001b[0m\u001b[0m\n",
            "\u001b[0;32m/usr/local/lib/python3.7/dist-packages/sklearn/model_selection/_search.py\u001b[0m in \u001b[0;36m_run_search\u001b[0;34m(self, evaluate_candidates)\u001b[0m\n\u001b[1;32m   1149\u001b[0m     \u001b[0;32mdef\u001b[0m \u001b[0m_run_search\u001b[0m\u001b[0;34m(\u001b[0m\u001b[0mself\u001b[0m\u001b[0;34m,\u001b[0m \u001b[0mevaluate_candidates\u001b[0m\u001b[0;34m)\u001b[0m\u001b[0;34m:\u001b[0m\u001b[0;34m\u001b[0m\u001b[0;34m\u001b[0m\u001b[0m\n\u001b[1;32m   1150\u001b[0m         \u001b[0;34m\"\"\"Search all candidates in param_grid\"\"\"\u001b[0m\u001b[0;34m\u001b[0m\u001b[0;34m\u001b[0m\u001b[0m\n\u001b[0;32m-> 1151\u001b[0;31m         \u001b[0mevaluate_candidates\u001b[0m\u001b[0;34m(\u001b[0m\u001b[0mParameterGrid\u001b[0m\u001b[0;34m(\u001b[0m\u001b[0mself\u001b[0m\u001b[0;34m.\u001b[0m\u001b[0mparam_grid\u001b[0m\u001b[0;34m)\u001b[0m\u001b[0;34m)\u001b[0m\u001b[0;34m\u001b[0m\u001b[0;34m\u001b[0m\u001b[0m\n\u001b[0m\u001b[1;32m   1152\u001b[0m \u001b[0;34m\u001b[0m\u001b[0m\n\u001b[1;32m   1153\u001b[0m \u001b[0;34m\u001b[0m\u001b[0m\n",
            "\u001b[0;32m/usr/local/lib/python3.7/dist-packages/sklearn/model_selection/_search.py\u001b[0m in \u001b[0;36mevaluate_candidates\u001b[0;34m(candidate_params)\u001b[0m\n\u001b[1;32m    687\u001b[0m                                \u001b[0;32mfor\u001b[0m \u001b[0mparameters\u001b[0m\u001b[0;34m,\u001b[0m \u001b[0;34m(\u001b[0m\u001b[0mtrain\u001b[0m\u001b[0;34m,\u001b[0m \u001b[0mtest\u001b[0m\u001b[0;34m)\u001b[0m\u001b[0;34m\u001b[0m\u001b[0;34m\u001b[0m\u001b[0m\n\u001b[1;32m    688\u001b[0m                                in product(candidate_params,\n\u001b[0;32m--> 689\u001b[0;31m                                           cv.split(X, y, groups)))\n\u001b[0m\u001b[1;32m    690\u001b[0m \u001b[0;34m\u001b[0m\u001b[0m\n\u001b[1;32m    691\u001b[0m                 \u001b[0;32mif\u001b[0m \u001b[0mlen\u001b[0m\u001b[0;34m(\u001b[0m\u001b[0mout\u001b[0m\u001b[0;34m)\u001b[0m \u001b[0;34m<\u001b[0m \u001b[0;36m1\u001b[0m\u001b[0;34m:\u001b[0m\u001b[0;34m\u001b[0m\u001b[0;34m\u001b[0m\u001b[0m\n",
            "\u001b[0;32m/usr/local/lib/python3.7/dist-packages/joblib/parallel.py\u001b[0m in \u001b[0;36m__call__\u001b[0;34m(self, iterable)\u001b[0m\n\u001b[1;32m   1052\u001b[0m \u001b[0;34m\u001b[0m\u001b[0m\n\u001b[1;32m   1053\u001b[0m             \u001b[0;32mwith\u001b[0m \u001b[0mself\u001b[0m\u001b[0;34m.\u001b[0m\u001b[0m_backend\u001b[0m\u001b[0;34m.\u001b[0m\u001b[0mretrieval_context\u001b[0m\u001b[0;34m(\u001b[0m\u001b[0;34m)\u001b[0m\u001b[0;34m:\u001b[0m\u001b[0;34m\u001b[0m\u001b[0;34m\u001b[0m\u001b[0m\n\u001b[0;32m-> 1054\u001b[0;31m                 \u001b[0mself\u001b[0m\u001b[0;34m.\u001b[0m\u001b[0mretrieve\u001b[0m\u001b[0;34m(\u001b[0m\u001b[0;34m)\u001b[0m\u001b[0;34m\u001b[0m\u001b[0;34m\u001b[0m\u001b[0m\n\u001b[0m\u001b[1;32m   1055\u001b[0m             \u001b[0;31m# Make sure that we get a last message telling us we are done\u001b[0m\u001b[0;34m\u001b[0m\u001b[0;34m\u001b[0m\u001b[0;34m\u001b[0m\u001b[0m\n\u001b[1;32m   1056\u001b[0m             \u001b[0melapsed_time\u001b[0m \u001b[0;34m=\u001b[0m \u001b[0mtime\u001b[0m\u001b[0;34m.\u001b[0m\u001b[0mtime\u001b[0m\u001b[0;34m(\u001b[0m\u001b[0;34m)\u001b[0m \u001b[0;34m-\u001b[0m \u001b[0mself\u001b[0m\u001b[0;34m.\u001b[0m\u001b[0m_start_time\u001b[0m\u001b[0;34m\u001b[0m\u001b[0;34m\u001b[0m\u001b[0m\n",
            "\u001b[0;32m/usr/local/lib/python3.7/dist-packages/joblib/parallel.py\u001b[0m in \u001b[0;36mretrieve\u001b[0;34m(self)\u001b[0m\n\u001b[1;32m    931\u001b[0m             \u001b[0;32mtry\u001b[0m\u001b[0;34m:\u001b[0m\u001b[0;34m\u001b[0m\u001b[0;34m\u001b[0m\u001b[0m\n\u001b[1;32m    932\u001b[0m                 \u001b[0;32mif\u001b[0m \u001b[0mgetattr\u001b[0m\u001b[0;34m(\u001b[0m\u001b[0mself\u001b[0m\u001b[0;34m.\u001b[0m\u001b[0m_backend\u001b[0m\u001b[0;34m,\u001b[0m \u001b[0;34m'supports_timeout'\u001b[0m\u001b[0;34m,\u001b[0m \u001b[0;32mFalse\u001b[0m\u001b[0;34m)\u001b[0m\u001b[0;34m:\u001b[0m\u001b[0;34m\u001b[0m\u001b[0;34m\u001b[0m\u001b[0m\n\u001b[0;32m--> 933\u001b[0;31m                     \u001b[0mself\u001b[0m\u001b[0;34m.\u001b[0m\u001b[0m_output\u001b[0m\u001b[0;34m.\u001b[0m\u001b[0mextend\u001b[0m\u001b[0;34m(\u001b[0m\u001b[0mjob\u001b[0m\u001b[0;34m.\u001b[0m\u001b[0mget\u001b[0m\u001b[0;34m(\u001b[0m\u001b[0mtimeout\u001b[0m\u001b[0;34m=\u001b[0m\u001b[0mself\u001b[0m\u001b[0;34m.\u001b[0m\u001b[0mtimeout\u001b[0m\u001b[0;34m)\u001b[0m\u001b[0;34m)\u001b[0m\u001b[0;34m\u001b[0m\u001b[0;34m\u001b[0m\u001b[0m\n\u001b[0m\u001b[1;32m    934\u001b[0m                 \u001b[0;32melse\u001b[0m\u001b[0;34m:\u001b[0m\u001b[0;34m\u001b[0m\u001b[0;34m\u001b[0m\u001b[0m\n\u001b[1;32m    935\u001b[0m                     \u001b[0mself\u001b[0m\u001b[0;34m.\u001b[0m\u001b[0m_output\u001b[0m\u001b[0;34m.\u001b[0m\u001b[0mextend\u001b[0m\u001b[0;34m(\u001b[0m\u001b[0mjob\u001b[0m\u001b[0;34m.\u001b[0m\u001b[0mget\u001b[0m\u001b[0;34m(\u001b[0m\u001b[0;34m)\u001b[0m\u001b[0;34m)\u001b[0m\u001b[0;34m\u001b[0m\u001b[0;34m\u001b[0m\u001b[0m\n",
            "\u001b[0;32m/usr/local/lib/python3.7/dist-packages/joblib/_parallel_backends.py\u001b[0m in \u001b[0;36mwrap_future_result\u001b[0;34m(future, timeout)\u001b[0m\n\u001b[1;32m    540\u001b[0m         AsyncResults.get from multiprocessing.\"\"\"\n\u001b[1;32m    541\u001b[0m         \u001b[0;32mtry\u001b[0m\u001b[0;34m:\u001b[0m\u001b[0;34m\u001b[0m\u001b[0;34m\u001b[0m\u001b[0m\n\u001b[0;32m--> 542\u001b[0;31m             \u001b[0;32mreturn\u001b[0m \u001b[0mfuture\u001b[0m\u001b[0;34m.\u001b[0m\u001b[0mresult\u001b[0m\u001b[0;34m(\u001b[0m\u001b[0mtimeout\u001b[0m\u001b[0;34m=\u001b[0m\u001b[0mtimeout\u001b[0m\u001b[0;34m)\u001b[0m\u001b[0;34m\u001b[0m\u001b[0;34m\u001b[0m\u001b[0m\n\u001b[0m\u001b[1;32m    543\u001b[0m         \u001b[0;32mexcept\u001b[0m \u001b[0mCfTimeoutError\u001b[0m \u001b[0;32mas\u001b[0m \u001b[0me\u001b[0m\u001b[0;34m:\u001b[0m\u001b[0;34m\u001b[0m\u001b[0;34m\u001b[0m\u001b[0m\n\u001b[1;32m    544\u001b[0m             \u001b[0;32mraise\u001b[0m \u001b[0mTimeoutError\u001b[0m \u001b[0;32mfrom\u001b[0m \u001b[0me\u001b[0m\u001b[0;34m\u001b[0m\u001b[0;34m\u001b[0m\u001b[0m\n",
            "\u001b[0;32m/usr/lib/python3.7/concurrent/futures/_base.py\u001b[0m in \u001b[0;36mresult\u001b[0;34m(self, timeout)\u001b[0m\n\u001b[1;32m    428\u001b[0m                 \u001b[0;32mreturn\u001b[0m \u001b[0mself\u001b[0m\u001b[0;34m.\u001b[0m\u001b[0m__get_result\u001b[0m\u001b[0;34m(\u001b[0m\u001b[0;34m)\u001b[0m\u001b[0;34m\u001b[0m\u001b[0;34m\u001b[0m\u001b[0m\n\u001b[1;32m    429\u001b[0m \u001b[0;34m\u001b[0m\u001b[0m\n\u001b[0;32m--> 430\u001b[0;31m             \u001b[0mself\u001b[0m\u001b[0;34m.\u001b[0m\u001b[0m_condition\u001b[0m\u001b[0;34m.\u001b[0m\u001b[0mwait\u001b[0m\u001b[0;34m(\u001b[0m\u001b[0mtimeout\u001b[0m\u001b[0;34m)\u001b[0m\u001b[0;34m\u001b[0m\u001b[0;34m\u001b[0m\u001b[0m\n\u001b[0m\u001b[1;32m    431\u001b[0m \u001b[0;34m\u001b[0m\u001b[0m\n\u001b[1;32m    432\u001b[0m             \u001b[0;32mif\u001b[0m \u001b[0mself\u001b[0m\u001b[0;34m.\u001b[0m\u001b[0m_state\u001b[0m \u001b[0;32min\u001b[0m \u001b[0;34m[\u001b[0m\u001b[0mCANCELLED\u001b[0m\u001b[0;34m,\u001b[0m \u001b[0mCANCELLED_AND_NOTIFIED\u001b[0m\u001b[0;34m]\u001b[0m\u001b[0;34m:\u001b[0m\u001b[0;34m\u001b[0m\u001b[0;34m\u001b[0m\u001b[0m\n",
            "\u001b[0;32m/usr/lib/python3.7/threading.py\u001b[0m in \u001b[0;36mwait\u001b[0;34m(self, timeout)\u001b[0m\n\u001b[1;32m    294\u001b[0m         \u001b[0;32mtry\u001b[0m\u001b[0;34m:\u001b[0m    \u001b[0;31m# restore state no matter what (e.g., KeyboardInterrupt)\u001b[0m\u001b[0;34m\u001b[0m\u001b[0;34m\u001b[0m\u001b[0m\n\u001b[1;32m    295\u001b[0m             \u001b[0;32mif\u001b[0m \u001b[0mtimeout\u001b[0m \u001b[0;32mis\u001b[0m \u001b[0;32mNone\u001b[0m\u001b[0;34m:\u001b[0m\u001b[0;34m\u001b[0m\u001b[0;34m\u001b[0m\u001b[0m\n\u001b[0;32m--> 296\u001b[0;31m                 \u001b[0mwaiter\u001b[0m\u001b[0;34m.\u001b[0m\u001b[0macquire\u001b[0m\u001b[0;34m(\u001b[0m\u001b[0;34m)\u001b[0m\u001b[0;34m\u001b[0m\u001b[0;34m\u001b[0m\u001b[0m\n\u001b[0m\u001b[1;32m    297\u001b[0m                 \u001b[0mgotit\u001b[0m \u001b[0;34m=\u001b[0m \u001b[0;32mTrue\u001b[0m\u001b[0;34m\u001b[0m\u001b[0;34m\u001b[0m\u001b[0m\n\u001b[1;32m    298\u001b[0m             \u001b[0;32melse\u001b[0m\u001b[0;34m:\u001b[0m\u001b[0;34m\u001b[0m\u001b[0;34m\u001b[0m\u001b[0m\n",
            "\u001b[0;31mKeyboardInterrupt\u001b[0m: "
          ]
        }
      ]
    },
    {
      "cell_type": "code",
      "metadata": {
        "id": "p0ZJPtzPrvAh"
      },
      "source": [
        ""
      ],
      "execution_count": null,
      "outputs": []
    }
  ]
}